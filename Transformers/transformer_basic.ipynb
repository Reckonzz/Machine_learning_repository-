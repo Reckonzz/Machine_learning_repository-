{
 "cells": [
  {
   "cell_type": "code",
   "execution_count": 26,
   "metadata": {},
   "outputs": [],
   "source": [
    "import torch\n",
    "from torch import nn "
   ]
  },
  {
   "attachments": {},
   "cell_type": "markdown",
   "metadata": {},
   "source": [
    "$Attention(Q,K,V) = softmax(\\frac{QK^T}{\\sqrt{d_k}})V$\n",
    "\n",
    "Each of Q, K, V has shape (batch_size, seq_length, num_features)"
   ]
  },
  {
   "cell_type": "code",
   "execution_count": 2,
   "metadata": {},
   "outputs": [],
   "source": [
    "from torch import Tensor \n",
    "import torch.nn.functional as f \n",
    "\n",
    "def scaled_dot_product_attention(query: Tensor, key: Tensor, value: Tensor): \n",
    "    temp = query.bmm(key.transpose(1, 2)) # performs a batch matrix multiplication \n",
    "    scale = key.size(-1) ** 0.5 \n",
    "    softmax = f.softmax(temp / scale, dim=-1)\n",
    "    return softmax.bmm(value)\n"
   ]
  },
  {
   "cell_type": "code",
   "execution_count": 24,
   "metadata": {},
   "outputs": [],
   "source": [
    "def scaled_dot_product_attention(key: Tensor, query: Tensor, value: Tensor): \n",
    "    temp = query.bmm(key.transpose(1,2))\n",
    "    scale = key.size(-1) ** 0.5 \n",
    "    softmax = f.softmax(temp / scale)\n",
    "    return softmax.bmm(value)"
   ]
  },
  {
   "cell_type": "code",
   "execution_count": 25,
   "metadata": {},
   "outputs": [
    {
     "name": "stderr",
     "output_type": "stream",
     "text": [
      "C:\\Users\\clshe\\AppData\\Local\\Temp\\ipykernel_5280\\2446876834.py:4: UserWarning: Implicit dimension choice for softmax has been deprecated. Change the call to include dim=X as an argument.\n",
      "  softmax = f.softmax(temp / scale)\n"
     ]
    },
    {
     "data": {
      "text/plain": [
       "tensor([[[ 0.,  0.,  0.],\n",
       "         [ 0.,  0.,  0.],\n",
       "         [ 0.,  0.,  0.]],\n",
       "\n",
       "        [[ 0.,  0.,  0.],\n",
       "         [ 0.,  0.,  0.],\n",
       "         [ 0.,  0.,  0.]],\n",
       "\n",
       "        [[66., 69., 72.],\n",
       "         [66., 69., 72.],\n",
       "         [66., 69., 72.]]])"
      ]
     },
     "execution_count": 25,
     "metadata": {},
     "output_type": "execute_result"
    }
   ],
   "source": [
    "data = [[[1,2,3], [4,5,6], [7,8,9]], [[10,11,12], [13,14,15], [16,17,18]], [[19,20,21], [22,23,24], [25,26,27]]]\n",
    "\n",
    "\n",
    "V = torch.tensor(data, dtype=torch.float)\n",
    "scaled_dot_product_attention(V, V, V)\n",
    "\n",
    "class AttentionHead(nn.Module): \n",
    "    def __init__(self, dim_in: int, dim_q: int, dim_k: int): \n",
    "        super().__init__()\n",
    "        self.q = nn.Linear(dim_in, dim_q)\n",
    "        self.k = nn.Linear(dim_in, dim_k)\n",
    "        self.v = nn.Linear(dim_in, dim_k)"
   ]
  },
  {
   "cell_type": "code",
   "execution_count": null,
   "metadata": {},
   "outputs": [],
   "source": []
  }
 ],
 "metadata": {
  "kernelspec": {
   "display_name": "Python 3",
   "language": "python",
   "name": "python3"
  },
  "language_info": {
   "codemirror_mode": {
    "name": "ipython",
    "version": 3
   },
   "file_extension": ".py",
   "mimetype": "text/x-python",
   "name": "python",
   "nbconvert_exporter": "python",
   "pygments_lexer": "ipython3",
   "version": "3.9.0"
  },
  "orig_nbformat": 4,
  "vscode": {
   "interpreter": {
    "hash": "374d635f151312d2307cf40a2789094301ebf899bf64085654e3dce711a2b793"
   }
  }
 },
 "nbformat": 4,
 "nbformat_minor": 2
}
