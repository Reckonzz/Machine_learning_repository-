{
 "cells": [
  {
   "cell_type": "markdown",
   "id": "882587f8",
   "metadata": {},
   "source": [
    "#### This simulates a classic reinforcement learning problem regarding the armed bandits: \n",
    "The following code is from the book: Deep Reinforcement Learning, and only represents my implementation and practice on it\n",
    "\n",
    "The following shows the Q value function showing the expected rewards based on the history: \\\n",
    "$Q_k(a) = \\frac{R_1 + R_2 + \\dots + R_k}{k_a}$\n",
    "\n",
    "We choose the best action by choosing the action which gives us the best expected reward: \\\n",
    "$\\forall a_i \\in A_k$ \\\n",
    "$a^* = argmax_aQ_k(a_i)$\n",
    "\n",
    "Softmax function: \n",
    "$Pr(A) = \\frac{e^{\\frac{Q_k(A)}{\\tau}}}{\\sum\\limits^n_{i=1}e^{\\frac{Q_k(i)}{\\tau}}}$"
   ]
  },
  {
   "cell_type": "code",
   "execution_count": 30,
   "id": "f62ed3d8",
   "metadata": {},
   "outputs": [],
   "source": [
    "n_bandits = 10 "
   ]
  },
  {
   "cell_type": "code",
   "execution_count": 1,
   "id": "9af5abe9",
   "metadata": {},
   "outputs": [],
   "source": [
    "def exp_reward(action, history): \n",
    "    rewards_for_action = history[action]\n",
    "    return sum(rewards_for_action) / len(rewards_for_action)"
   ]
  },
  {
   "cell_type": "code",
   "execution_count": 2,
   "id": "a1d1b247",
   "metadata": {},
   "outputs": [],
   "source": [
    "def get_best_action(actions, history): \n",
    "    best_action = 0 \n",
    "    max_action_value = 0\n",
    "    for i in range(len(actions)): \n",
    "        cur_action_value = get_action_value(actions[i])\n",
    "        if cur_action_value > max_action_value: \n",
    "            best_action = i \n",
    "            max_action_value = cur_action_value \n",
    "    return best_action"
   ]
  },
  {
   "cell_type": "code",
   "execution_count": 4,
   "id": "9c907c70",
   "metadata": {},
   "outputs": [],
   "source": [
    "def get_reward(prob, n=10): \n",
    "    reward = 0 \n",
    "    for i in range(n): \n",
    "        if random.random() < prob: \n",
    "            reward += 1 \n",
    "    return reward "
   ]
  },
  {
   "cell_type": "code",
   "execution_count": 6,
   "id": "d67a704f",
   "metadata": {},
   "outputs": [],
   "source": [
    "import numpy as np \n",
    "from scipy import stats \n",
    "import random\n",
    "import matplotlib.pyplot as plt\n",
    "\n",
    "n = 10 \n",
    "probs = np.random.rand(n)\n",
    "eps = 0.2"
   ]
  },
  {
   "cell_type": "markdown",
   "id": "2341d975",
   "metadata": {},
   "source": [
    "plot reward function"
   ]
  },
  {
   "cell_type": "code",
   "execution_count": 29,
   "id": "4f3a3654",
   "metadata": {},
   "outputs": [
    {
     "data": {
      "text/plain": [
       "(array([  0.,   3.,  24.,  60., 208., 379., 568., 458., 237.,  63.]),\n",
       " array([ 1.,  2.,  3.,  4.,  5.,  6.,  7.,  8.,  9., 10., 11.]),\n",
       " <BarContainer object of 10 artists>)"
      ]
     },
     "execution_count": 29,
     "metadata": {},
     "output_type": "execute_result"
    },
    {
     "data": {
      "image/png": "[encoded data removed]",
      "text/plain": [
       "<Figure size 432x288 with 1 Axes>"
      ]
     },
     "metadata": {
      "needs_background": "light"
     },
     "output_type": "display_data"
    }
   ],
   "source": [
    "prob = 0.7\n",
    "n_samples = 2000\n",
    "rewards = [get_reward(0.7) for _ in range(n_samples)]\n",
    "plt.hist(rewards, bins=[i for i in range(1,12)])"
   ]
  },
  {
   "cell_type": "markdown",
   "id": "f45fd3f3",
   "metadata": {},
   "source": [
    "More efficient way to compute the running average: \n",
    "\n",
    "$\\mu_{new} = \\frac{k\\dot\\mu_{old} + x}{k+1}$"
   ]
  },
  {
   "cell_type": "code",
   "execution_count": 32,
   "id": "573ec122",
   "metadata": {},
   "outputs": [
    {
     "data": {
      "text/plain": [
       "array([[0., 0.],\n",
       "       [0., 0.],\n",
       "       [0., 0.],\n",
       "       [0., 0.],\n",
       "       [0., 0.],\n",
       "       [0., 0.],\n",
       "       [0., 0.],\n",
       "       [0., 0.],\n",
       "       [0., 0.],\n",
       "       [0., 0.]])"
      ]
     },
     "execution_count": 32,
     "metadata": {},
     "output_type": "execute_result"
    }
   ],
   "source": [
    "record = np.zeros((n_bandits,2))\n",
    "record"
   ]
  },
  {
   "cell_type": "code",
   "execution_count": 33,
   "id": "006dbb37",
   "metadata": {},
   "outputs": [],
   "source": [
    "def update_record(record, action, r): \n",
    "    new_r = (record[action, 0] * record[action,1] + r) / (record[action, 0] + 1)\n",
    "    record[action, 0] += 1 \n",
    "    record[action, 1] = new_r \n",
    "    return record "
   ]
  },
  {
   "cell_type": "code",
   "execution_count": 34,
   "id": "b61d1ab9",
   "metadata": {},
   "outputs": [],
   "source": [
    "def get_best_arm(record): \n",
    "    arm_index = np.argmax(record[:,1], axis=0)\n",
    "    return arm_index "
   ]
  },
  {
   "cell_type": "code",
   "execution_count": 53,
   "id": "f88bbcf7",
   "metadata": {},
   "outputs": [
    {
     "name": "stdout",
     "output_type": "stream",
     "text": [
      "[0.93967717 0.48650231 0.84195036 0.37998283 0.60505369 0.1134344\n",
      " 0.74692935 0.39566011 0.32196024 0.28562419]\n"
     ]
    },
    {
     "data": {
      "text/plain": [
       "<matplotlib.collections.PathCollection at 0x239fd17f8b0>"
      ]
     },
     "execution_count": 53,
     "metadata": {},
     "output_type": "execute_result"
    },
    {
     "data": {
      "image/png": "[encoded data removed]",
      "text/plain": [
       "<Figure size 432x288 with 1 Axes>"
      ]
     },
     "metadata": {
      "needs_background": "light"
     },
     "output_type": "display_data"
    }
   ],
   "source": [
    "fig, ax = plt.subplots(1,1)\n",
    "ax.set_xlabel(\"Plays\")\n",
    "ax.set_ylabel(\"Avg Reward\")\n",
    "record = np.zeros((n_bandits, 2))\n",
    "probs = np.random.rand(n_bandits)\n",
    "print(probs)\n",
    "eps = 0.2 \n",
    "rewards = [0]\n",
    "for i in range(500): \n",
    "    if random.random() > eps: \n",
    "        choice = get_best_arm(record)\n",
    "    else: \n",
    "        choice = np.random.randint(n_bandits)\n",
    "    r = get_reward(probs[choice])\n",
    "    mean_reward = ((i+1) * rewards[-1] + r)/(i+2)\n",
    "    rewards.append(mean_reward)\n",
    "ax.scatter(np.arange(len(rewards)), rewards)\n",
    "    "
   ]
  },
  {
   "cell_type": "code",
   "execution_count": 54,
   "id": "96a7667c",
   "metadata": {},
   "outputs": [],
   "source": [
    "def softmax(vals, tau=1.12): \n",
    "    softm = np.exp(vals/tau)/np.sum(np.exp(vals/tau)) \n",
    "    return softm\n",
    "    "
   ]
  },
  {
   "cell_type": "code",
   "execution_count": 60,
   "id": "69767090",
   "metadata": {},
   "outputs": [
    {
     "data": {
      "text/plain": [
       "array([0.00278929, 0.00681171, 0.01663486, 0.04062393, 0.09920759,\n",
       "       0.24227458, 0.59165804])"
      ]
     },
     "execution_count": 60,
     "metadata": {},
     "output_type": "execute_result"
    }
   ],
   "source": [
    "x = np.array([0,1,2,3,4,5,6])\n",
    "softmax(x)"
   ]
  },
  {
   "cell_type": "code",
   "execution_count": 68,
   "id": "862adf23",
   "metadata": {},
   "outputs": [
    {
     "name": "stdout",
     "output_type": "stream",
     "text": [
      "[0.26983622 0.37025644 0.32846379 0.92833236 0.69319909 0.22270509\n",
      " 0.34034794 0.59882869 0.0240582  0.74525476]\n"
     ]
    },
    {
     "data": {
      "text/plain": [
       "<matplotlib.collections.PathCollection at 0x239fe3213a0>"
      ]
     },
     "execution_count": 68,
     "metadata": {},
     "output_type": "execute_result"
    },
    {
     "data": {
      "image/png": "[encoded data removed]",
      "text/plain": [
       "<Figure size 648x360 with 1 Axes>"
      ]
     },
     "metadata": {
      "needs_background": "light"
     },
     "output_type": "display_data"
    }
   ],
   "source": [
    "fig, ax = plt.subplots(1,1)\n",
    "ax.set_xlabel(\"Plays\")\n",
    "ax.set_ylabel(\"Avg Reward\")\n",
    "fig.set_size_inches(9,5)\n",
    "probs = np.random.rand(n_bandits)\n",
    "print(probs)\n",
    "record = np.zeros((n_bandits, 2))\n",
    "rewards = [0]\n",
    "for i in range(500): \n",
    "    p = softmax(record[:,1])\n",
    "    choice = np.random.choice(np.arange(n_bandits),p=p)\n",
    "    r = get_reward(probs[choice], n_bandits)\n",
    "    record = update_record(record, choice, r)\n",
    "    mean_reward = ((i+1) * rewards[-1] + r)/(i+2)\n",
    "    rewards.append(mean_reward)\n",
    "ax.scatter(np.arange(len(rewards)), rewards)"
   ]
  },
  {
   "cell_type": "markdown",
   "id": "d69e377b",
   "metadata": {},
   "source": [
    "### Contextual bandits"
   ]
  },
  {
   "cell_type": "code",
   "execution_count": 83,
   "id": "d0f1ca76",
   "metadata": {},
   "outputs": [],
   "source": [
    "class ContextBandit: \n",
    "    def __init__(self, arms=10): \n",
    "        self.arms = arms \n",
    "        self.init_distribution(arms)\n",
    "        self.update_state() \n",
    "\n",
    "    def init_distribution(self, arms): \n",
    "        self.bandit_matrix = np.random.rand(arms, arms)\n",
    "    \n",
    "    def reward(self, prob): \n",
    "        reward = 0 \n",
    "        for i in range(self.arms): \n",
    "            if random.random() < prob: \n",
    "                reward += 1 \n",
    "        return reward\n",
    "    \n",
    "    def get_state(self): \n",
    "        return self.state \n",
    "    \n",
    "    def update_state(self): \n",
    "        self.state = np.random.randint(0, self.arms)\n",
    "        \n",
    "    def get_reward(self, arm): \n",
    "        return self.reward(self.bandit_matrix[self.get_state()][arm])\n",
    "    \n",
    "    def choose_arm(self, arm): \n",
    "        reward = self.get_reward(arm)\n",
    "        self.update_state()\n",
    "        return reward "
   ]
  },
  {
   "cell_type": "code",
   "execution_count": 89,
   "id": "b837f1f7",
   "metadata": {},
   "outputs": [
    {
     "name": "stdout",
     "output_type": "stream",
     "text": [
      "9\n"
     ]
    }
   ],
   "source": [
    "env = ContextBandit(arms=10)\n",
    "state = env.get_state()\n",
    "print(state)"
   ]
  },
  {
   "cell_type": "code",
   "execution_count": 90,
   "id": "ba0ed87f",
   "metadata": {},
   "outputs": [],
   "source": [
    "import numpy as np \n",
    "import torch \n",
    "\n",
    "arms = 10 \n",
    "N, D_in, H, D_out = 1, arms, 100, arms "
   ]
  },
  {
   "cell_type": "code",
   "execution_count": 91,
   "id": "9c9f7154",
   "metadata": {},
   "outputs": [],
   "source": [
    "model = torch.nn.Sequential(\n",
    "    torch.nn.Linear(D_in, H), \n",
    "    torch.nn.ReLU(), \n",
    "    torch.nn.Linear(H, D_out), \n",
    "    torch.nn.ReLU(),\n",
    ")\n",
    "\n",
    "loss_fn = torch.nn.MSELoss() \n",
    "env = ContextBandit(arms)\n",
    "\n",
    "def one_hot(N, pos, val=1): \n",
    "    one_hot_vec = np.zeros(N)\n",
    "    one_hot_vec[pos] = val \n",
    "    return one_hot_vec "
   ]
  },
  {
   "cell_type": "code",
   "execution_count": 133,
   "id": "34f74120",
   "metadata": {},
   "outputs": [],
   "source": [
    "def train(env, epochs=5000, learning_rate=1e-2): \n",
    "    cur_state = torch.Tensor(one_hot(arms, env.get_state()))\n",
    "    optimizer = torch.optim.Adam(model.parameters(), lr=learning_rate)\n",
    "    rewards=[]\n",
    "    for i in range(epochs): \n",
    "        y_pred = model(cur_state)\n",
    "        softm = softmax(y_pred.data.numpy(), tau=2.0)\n",
    "        softm /= softm.sum()\n",
    "        choice = np.random.choice(arms, p = softm)\n",
    "        cur_reward = env.choose_arm(choice)\n",
    "        one_hot_reward = y_pred.data.numpy().copy() \n",
    "        one_hot_reward[choice] = cur_reward\n",
    "        reward = torch.Tensor(one_hot_reward)\n",
    "        rewards.append(cur_reward)\n",
    "        loss = loss_fn(y_pred, reward)\n",
    "        optimizer.zero_grad()\n",
    "        loss.backward() \n",
    "        optimizer.step() \n",
    "        cur_state = torch.Tensor(one_hot(arms, env.get_state()))\n",
    "    return np.array(rewards)"
   ]
  },
  {
   "cell_type": "code",
   "execution_count": 139,
   "id": "5c84cf38",
   "metadata": {},
   "outputs": [],
   "source": [
    "rewards = train(env)"
   ]
  },
  {
   "cell_type": "code",
   "execution_count": 140,
   "id": "2addad21",
   "metadata": {},
   "outputs": [],
   "source": [
    "mean_rewards = []\n",
    "for i, r in enumerate(rewards):\n",
    "    if i == 0: \n",
    "        mean_rewards.append(r)\n",
    "    else: \n",
    "        mean_rewards.append((i*mean_rewards[-1] + r)/(i+1))"
   ]
  },
  {
   "cell_type": "code",
   "execution_count": 141,
   "id": "b16bb2d9",
   "metadata": {},
   "outputs": [
    {
     "data": {
      "text/plain": [
       "array([ 5,  8, 10, ...,  9,  8, 10])"
      ]
     },
     "execution_count": 141,
     "metadata": {},
     "output_type": "execute_result"
    }
   ],
   "source": [
    "rewards"
   ]
  },
  {
   "cell_type": "code",
   "execution_count": 142,
   "id": "dbbb16fa",
   "metadata": {},
   "outputs": [
    {
     "name": "stdout",
     "output_type": "stream",
     "text": [
      "5000\n"
     ]
    }
   ],
   "source": [
    "print(len(mean_rewards))"
   ]
  },
  {
   "cell_type": "code",
   "execution_count": 143,
   "id": "d0510c3a",
   "metadata": {},
   "outputs": [
    {
     "data": {
      "text/plain": [
       "<matplotlib.collections.PathCollection at 0x2398bd843a0>"
      ]
     },
     "execution_count": 143,
     "metadata": {},
     "output_type": "execute_result"
    },
    {
     "data": {
      "image/png": "[encoded data removed]",
      "text/plain": [
       "<Figure size 432x288 with 1 Axes>"
      ]
     },
     "metadata": {
      "needs_background": "light"
     },
     "output_type": "display_data"
    }
   ],
   "source": [
    "fig, ax = plt.subplots(1,1)\n",
    "ax.set_xlabel(\"Plays\")\n",
    "ax.set_ylabel(\"Mean reward\")\n",
    "\n",
    "plt.scatter([i for i in range(5000)],mean_rewards)"
   ]
  },
  {
   "cell_type": "code",
   "execution_count": null,
   "id": "2c930efe",
   "metadata": {},
   "outputs": [],
   "source": []
  }
 ],
 "metadata": {
  "kernelspec": {
   "display_name": "ai_env",
   "language": "python",
   "name": "ai_env"
  },
  "language_info": {
   "codemirror_mode": {
    "name": "ipython",
    "version": 3
   },
   "file_extension": ".py",
   "mimetype": "text/x-python",
   "name": "python",
   "nbconvert_exporter": "python",
   "pygments_lexer": "ipython3",
   "version": "3.8.8"
  }
 },
 "nbformat": 4,
 "nbformat_minor": 5
}
