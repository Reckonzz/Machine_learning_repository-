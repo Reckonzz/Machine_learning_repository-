{
 "cells": [
  {
   "cell_type": "code",
   "execution_count": 7,
   "id": "9e5c1c8a",
   "metadata": {},
   "outputs": [],
   "source": [
    "from Gridboard import *"
   ]
  },
  {
   "cell_type": "code",
   "execution_count": 8,
   "id": "077fc6f3",
   "metadata": {},
   "outputs": [],
   "source": [
    "board = Board(4)"
   ]
  },
  {
   "cell_type": "code",
   "execution_count": 13,
   "id": "9045b9a7",
   "metadata": {},
   "outputs": [],
   "source": [
    "import numpy as np \n",
    "import torch \n",
    "import random \n",
    "from matplotlib import pylab as plt "
   ]
  },
  {
   "cell_type": "code",
   "execution_count": 15,
   "id": "a0844d4b",
   "metadata": {},
   "outputs": [],
   "source": [
    "l1 = 64 \n",
    "l2 = 150 \n",
    "l3 = 100 \n",
    "l4 = 4 \n",
    "\n",
    "model = torch.nn.Sequential(\n",
    "    torch.nn.Linear(l1,l2), \n",
    "    torch.nn.ReLU(), \n",
    "    torch.nn.Linear(l2,l3), \n",
    "    torch.nn.ReLU(), \n",
    "    torch.nn.Linear(l3,l4)\n",
    ")\n",
    "\n",
    "loss_fn = torch.nn.MSELoss()\n",
    "learning_rate = 1e-3\n",
    "optimizer = torch.optim.Adam(model.parameters(), lr=learning_rate)\n",
    "\n",
    "gamma = 0.9 \n",
    "epsilon = 1.0 \n",
    "learning_rate = 1e-3 \n",
    "optimizer = torch.optim.Adam(model.parameters(), lr=learning_rate)"
   ]
  },
  {
   "cell_type": "code",
   "execution_count": 16,
   "id": "9659ef9d",
   "metadata": {},
   "outputs": [],
   "source": [
    "action_set = {\n",
    "    0: 'u', \n",
    "    1: 'd', \n",
    "    2: 'l', \n",
    "    3: 'r'\n",
    "}"
   ]
  },
  {
   "cell_type": "code",
   "execution_count": null,
   "id": "6fdab5a8",
   "metadata": {},
   "outputs": [],
   "source": [
    "epochs = 1000 \n",
    "losses = []"
   ]
  }
 ],
 "metadata": {
  "kernelspec": {
   "display_name": "ai_env",
   "language": "python",
   "name": "ai_env"
  },
  "language_info": {
   "codemirror_mode": {
    "name": "ipython",
    "version": 3
   },
   "file_extension": ".py",
   "mimetype": "text/x-python",
   "name": "python",
   "nbconvert_exporter": "python",
   "pygments_lexer": "ipython3",
   "version": "3.8.8"
  }
 },
 "nbformat": 4,
 "nbformat_minor": 5
}
