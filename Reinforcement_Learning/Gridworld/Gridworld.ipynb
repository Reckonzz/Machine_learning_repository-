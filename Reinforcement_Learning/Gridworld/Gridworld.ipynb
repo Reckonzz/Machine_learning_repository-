{
 "cells": [
  {
   "cell_type": "markdown",
   "id": "58d04b9a",
   "metadata": {},
   "source": [
    "### This Code was heavily inspired by Deep Reinforcement Learning in Action by Alexander Zai and Brandon Brown. While the implementations were typed from scratch and from memory, the content heavily refers to the code in the book, so I do not take credit for the code here "
   ]
  },
  {
   "cell_type": "code",
   "execution_count": 1,
   "id": "9e5c1c8a",
   "metadata": {},
   "outputs": [],
   "source": [
    "import torch\n",
    "from Gridboard import *\n",
    "import matplotlib.pyplot as plt \n",
    "from collections import deque \n",
    "import numpy as np \n",
    "import random \n",
    "from IPython.display import clear_output\n",
    "import copy "
   ]
  },
  {
   "cell_type": "code",
   "execution_count": 3,
   "id": "077fc6f3",
   "metadata": {},
   "outputs": [
    {
     "data": {
      "text/plain": [
       "array([[[0., 0., 0., 1.],\n",
       "        [0., 0., 0., 0.],\n",
       "        [0., 0., 0., 0.],\n",
       "        [0., 0., 0., 0.]],\n",
       "\n",
       "       [[1., 0., 0., 0.],\n",
       "        [0., 0., 0., 0.],\n",
       "        [0., 0., 0., 0.],\n",
       "        [0., 0., 0., 0.]],\n",
       "\n",
       "       [[0., 1., 0., 0.],\n",
       "        [0., 0., 0., 0.],\n",
       "        [0., 0., 0., 0.],\n",
       "        [0., 0., 0., 0.]],\n",
       "\n",
       "       [[0., 0., 0., 0.],\n",
       "        [0., 1., 0., 0.],\n",
       "        [0., 0., 0., 0.],\n",
       "        [0., 0., 0., 0.]]])"
      ]
     },
     "execution_count": 3,
     "metadata": {},
     "output_type": "execute_result"
    }
   ],
   "source": [
    "game = Board(4)\n",
    "game.init_board()\n",
    "game.board_to_matrix()"
   ]
  },
  {
   "cell_type": "code",
   "execution_count": 89,
   "id": "31d7ea7b",
   "metadata": {},
   "outputs": [
    {
     "name": "stdout",
     "output_type": "stream",
     "text": [
      "[['+' '-' ' ' ' ']\n",
      " [' ' 'W' ' ' ' ']\n",
      " [' ' ' ' 'P' ' ']\n",
      " [' ' ' ' ' ' ' ']]\n"
     ]
    }
   ],
   "source": [
    "game.makeMove('d')\n",
    "game.makeMove('d')\n",
    "game.makeMove('l')\n",
    "game.display()"
   ]
  },
  {
   "cell_type": "code",
   "execution_count": 92,
   "id": "59799914",
   "metadata": {},
   "outputs": [
    {
     "data": {
      "text/plain": [
       "tensor([0., 0., 0., 0., 0., 0., 0., 0., 0., 0., 1., 0., 0., 0., 0., 0., 1., 0.,\n",
       "        0., 0., 0., 0., 0., 0., 0., 0., 0., 0., 0., 0., 0., 0., 0., 1., 0., 0.,\n",
       "        0., 0., 0., 0., 0., 0., 0., 0., 0., 0., 0., 0., 0., 0., 0., 0., 0., 1.,\n",
       "        0., 0., 0., 0., 0., 0., 0., 0., 0., 0.])"
      ]
     },
     "execution_count": 92,
     "metadata": {},
     "output_type": "execute_result"
    }
   ],
   "source": [
    "torch.nn.Flatten(0,2)(torch.from_numpy(game.board_to_matrix()).float())"
   ]
  },
  {
   "cell_type": "code",
   "execution_count": 15,
   "id": "1cae69f1",
   "metadata": {},
   "outputs": [],
   "source": []
  },
  {
   "cell_type": "code",
   "execution_count": 101,
   "id": "bd3ad423",
   "metadata": {},
   "outputs": [],
   "source": [
    "l1 = 64 \n",
    "l2 = 150 \n",
    "l3 = 100 \n",
    "l4 = 4 \n",
    "\n",
    "model = torch.nn.Sequential(\n",
    "    torch.nn.Flatten(-3,-1),\n",
    "    torch.nn.Linear(l1,l2), \n",
    "    torch.nn.ReLU(), \n",
    "    torch.nn.Linear(l2,l3), \n",
    "    torch.nn.ReLU(), \n",
    "    torch.nn.Linear(l3,l4)\n",
    ")\n",
    "\n",
    "loss_fn = torch.nn.MSELoss()\n",
    "learning_rate = 1e-3\n",
    "optimizer = torch.optim.Adam(model.parameters(), lr=learning_rate)\n",
    "\n",
    "gamma = 0.9 \n",
    "epsilon = 1.0 \n",
    "learning_rate = 1e-3 \n",
    "optimizer = torch.optim.Adam(model.parameters(), lr=learning_rate)"
   ]
  },
  {
   "cell_type": "code",
   "execution_count": 4,
   "id": "1f7a22dc",
   "metadata": {},
   "outputs": [],
   "source": [
    "action_set = {\n",
    "    0: 'u', \n",
    "    1: 'd', \n",
    "    2: 'l', \n",
    "    3: 'r'\n",
    "}"
   ]
  },
  {
   "cell_type": "code",
   "execution_count": 103,
   "id": "7ea7f105",
   "metadata": {},
   "outputs": [
    {
     "data": {
      "text/plain": [
       "array([[[0.02231542, 0.01859112, 0.02110128, 0.07261784],\n",
       "        [0.06659297, 0.02501584, 0.02018101, 0.0206277 ],\n",
       "        [0.07617657, 0.02458787, 0.0595197 , 0.0922011 ],\n",
       "        [0.08225516, 0.09280875, 0.04641652, 0.07732135]],\n",
       "\n",
       "       [[0.03541423, 0.06574983, 0.001182  , 0.03678303],\n",
       "        [0.08714855, 0.0059709 , 0.02829011, 0.09699757],\n",
       "        [0.04810513, 0.04096465, 0.03832018, 0.08716283],\n",
       "        [0.02062249, 0.04922914, 0.06397434, 0.0985246 ]],\n",
       "\n",
       "       [[0.08742069, 0.01317365, 0.01592673, 0.06578863],\n",
       "        [0.01286474, 0.02739475, 0.08535088, 0.08207035],\n",
       "        [0.06525092, 0.0099331 , 0.02312441, 0.01066105],\n",
       "        [0.00930579, 0.06629201, 0.04587164, 0.02095512]],\n",
       "\n",
       "       [[0.01532709, 0.07382716, 0.04440564, 0.07740763],\n",
       "        [0.00085471, 0.01379103, 0.05464162, 0.09562223],\n",
       "        [0.06047787, 0.04308632, 0.09408156, 0.05230749],\n",
       "        [0.05369091, 0.05356794, 0.08432895, 0.05005346]]])"
      ]
     },
     "execution_count": 103,
     "metadata": {},
     "output_type": "execute_result"
    }
   ],
   "source": [
    "np.random.rand(4,4,4)/10.0"
   ]
  },
  {
   "cell_type": "code",
   "execution_count": 104,
   "id": "1aa53b2a",
   "metadata": {},
   "outputs": [
    {
     "name": "stdout",
     "output_type": "stream",
     "text": [
      "0 0.9965137839317322\n"
     ]
    },
    {
     "ename": "NameError",
     "evalue": "name 'clear_output' is not defined",
     "output_type": "error",
     "traceback": [
      "\u001b[1;31m---------------------------------------------------------------------------\u001b[0m",
      "\u001b[1;31mNameError\u001b[0m                                 Traceback (most recent call last)",
      "\u001b[1;32m~\\AppData\\Local\\Temp/ipykernel_3040/3344432752.py\u001b[0m in \u001b[0;36m<module>\u001b[1;34m\u001b[0m\n\u001b[0;32m     32\u001b[0m         \u001b[0mloss\u001b[0m \u001b[1;33m=\u001b[0m \u001b[0mloss_fn\u001b[0m\u001b[1;33m(\u001b[0m\u001b[0mX\u001b[0m\u001b[1;33m,\u001b[0m \u001b[0mY\u001b[0m\u001b[1;33m)\u001b[0m \u001b[1;31m#P\u001b[0m\u001b[1;33m\u001b[0m\u001b[1;33m\u001b[0m\u001b[0m\n\u001b[0;32m     33\u001b[0m         \u001b[0mprint\u001b[0m\u001b[1;33m(\u001b[0m\u001b[0mi\u001b[0m\u001b[1;33m,\u001b[0m \u001b[0mloss\u001b[0m\u001b[1;33m.\u001b[0m\u001b[0mitem\u001b[0m\u001b[1;33m(\u001b[0m\u001b[1;33m)\u001b[0m\u001b[1;33m)\u001b[0m\u001b[1;33m\u001b[0m\u001b[1;33m\u001b[0m\u001b[0m\n\u001b[1;32m---> 34\u001b[1;33m         \u001b[0mclear_output\u001b[0m\u001b[1;33m(\u001b[0m\u001b[0mwait\u001b[0m\u001b[1;33m=\u001b[0m\u001b[1;32mTrue\u001b[0m\u001b[1;33m)\u001b[0m\u001b[1;33m\u001b[0m\u001b[1;33m\u001b[0m\u001b[0m\n\u001b[0m\u001b[0;32m     35\u001b[0m         \u001b[0moptimizer\u001b[0m\u001b[1;33m.\u001b[0m\u001b[0mzero_grad\u001b[0m\u001b[1;33m(\u001b[0m\u001b[1;33m)\u001b[0m\u001b[1;33m\u001b[0m\u001b[1;33m\u001b[0m\u001b[0m\n\u001b[0;32m     36\u001b[0m         \u001b[0mloss\u001b[0m\u001b[1;33m.\u001b[0m\u001b[0mbackward\u001b[0m\u001b[1;33m(\u001b[0m\u001b[1;33m)\u001b[0m\u001b[1;33m\u001b[0m\u001b[1;33m\u001b[0m\u001b[0m\n",
      "\u001b[1;31mNameError\u001b[0m: name 'clear_output' is not defined"
     ]
    }
   ],
   "source": [
    "epochs = 1000\n",
    "losses = [] #A\n",
    "for i in range(epochs): #B\n",
    "    game = Board(4) \n",
    "    game.init_board()\n",
    "    state_ = game.board_to_matrix() + np.random.rand(4,4,4)/10.0 #D\n",
    "    state = torch.from_numpy(state_).float() #E\n",
    "    status = 1 #F\n",
    "    state1=state\n",
    "    while(status == 1): #G\n",
    "        qval = model(state1) #H\n",
    "        qval_ = qval.data.numpy()\n",
    "        if (random.random() < epsilon): #I\n",
    "            action_ = np.random.randint(0,4)\n",
    "        else:\n",
    "            action_ = np.argmax(qval_)\n",
    "        \n",
    "        action = action_set[action_] #J\n",
    "        game.makeMove(action) #K\n",
    "        state2_ = game.board_to_matrix() + np.random.rand(4,4,4)/10.0\n",
    "        state2 = torch.from_numpy(state2_).float() #L\n",
    "        reward = game.reward()\n",
    "        with torch.no_grad():\n",
    "            newQ = model(state2)\n",
    "        maxQ = torch.max(newQ) #M\n",
    "        if reward == -1: #N\n",
    "            Y = reward + (gamma * maxQ)\n",
    "        else:\n",
    "            Y = reward\n",
    "        Y = torch.Tensor([Y]).detach()\n",
    "        X = qval.squeeze()[action_] #O\n",
    "        loss = loss_fn(X, Y) #P\n",
    "        print(i, loss.item())\n",
    "        clear_output(wait=True)\n",
    "        optimizer.zero_grad()\n",
    "        loss.backward()\n",
    "        losses.append(loss.item())\n",
    "        optimizer.step()\n",
    "        state1 = state2\n",
    "        if reward != -1: #Q\n",
    "            status = 0\n",
    "    if epsilon > 0.1: #R\n",
    "        epsilon -= (1/epochs)"
   ]
  },
  {
   "cell_type": "code",
   "execution_count": 105,
   "id": "9636565a",
   "metadata": {},
   "outputs": [
    {
     "name": "stdout",
     "output_type": "stream",
     "text": [
      "999 0.01073760911822319814.063338093459606170.8222564458847046\r"
     ]
    }
   ],
   "source": [
    "epochs = 1000\n",
    "losses = []\n",
    "\n",
    "for i in range(epochs): \n",
    "    game = Board(4)\n",
    "    game.init_board(deterministic=True) \n",
    "    state_ = game.board_to_matrix() + np.random.rand(4,4,4)/10.0\n",
    "    state = torch.from_numpy(state_).float()\n",
    "    status = 1 \n",
    "    state1 = state\n",
    "    while(status == 1): \n",
    "        qval = model(state1)\n",
    "        qval_ = qval.data.numpy()\n",
    "        if (random.random() < epsilon): \n",
    "            action_ = np.random.randint(0,4) \n",
    "        else: \n",
    "            action_ = np.argmax(qval_)\n",
    "#         print(action_)\n",
    "        \n",
    "        action = action_set[action_]\n",
    "        game.makeMove(action)\n",
    "        state2 = torch.from_numpy(game.board_to_matrix() + np.random.rand(4,4,4)/10.0).float()\n",
    "        reward = game.reward()\n",
    "        with torch.no_grad(): \n",
    "            newQ = model(state2)\n",
    "        maxQ = torch.max(newQ)\n",
    "        if reward == -1: \n",
    "            Y = reward + (gamma * maxQ)\n",
    "        else: \n",
    "            Y = reward\n",
    "        Y = torch.Tensor([Y]).detach() \n",
    "        X = qval.squeeze()[action_]\n",
    "        loss = loss_fn(X, Y)\n",
    "        print(i, loss.item(), end=\"\\r\")\n",
    "#         clear_output(wait=True)\n",
    "        optimizer.zero_grad()\n",
    "        loss.backward() \n",
    "        losses.append(loss.item())\n",
    "        optimizer.step()\n",
    "        state1 = state2 \n",
    "        if reward != -1: \n",
    "#             print(reward)\n",
    "            status = 0 \n",
    "    if epsilon > 0.1: \n",
    "        epsilon -= (1/epochs)\n",
    "        "
   ]
  },
  {
   "cell_type": "code",
   "execution_count": 106,
   "id": "8d78eea2",
   "metadata": {},
   "outputs": [
    {
     "data": {
      "text/plain": [
       "[<matplotlib.lines.Line2D at 0x1c2bbeaeca0>]"
      ]
     },
     "execution_count": 106,
     "metadata": {},
     "output_type": "execute_result"
    },
    {
     "data": {
      "image/png": "[encoded data removed]",
      "text/plain": [
       "<Figure size 720x504 with 1 Axes>"
      ]
     },
     "metadata": {
      "needs_background": "light"
     },
     "output_type": "display_data"
    }
   ],
   "source": [
    "plt.figure(figsize = (10,7))\n",
    "plt.plot(losses)"
   ]
  },
  {
   "cell_type": "code",
   "execution_count": 2,
   "id": "a897c4b4",
   "metadata": {},
   "outputs": [],
   "source": [
    "def test_model(model, deterministic=True, display=True): \n",
    "    i = 0 \n",
    "    test_game = Board(4)\n",
    "    test_game.init_board(deterministic=deterministic)\n",
    "    state_ = game.board_to_matrix() + np.random.rand(4,4)/10.0\n",
    "    state = torch.from_numpy(state_).float()\n",
    "    if display: \n",
    "        print(\"Initial state\")\n",
    "        print(test_game.display())\n",
    "    status = 1\n",
    "    while (status == 1): \n",
    "        qval = model(state)\n",
    "        qval_ = qval.data.numpy() \n",
    "        action_ = np.argmax(qval_)\n",
    "        action = action_set[action_]\n",
    "        if display: \n",
    "            print(f'Move #: {i}; Taking action: {action}')\n",
    "        test_game.makeMove(action)\n",
    "        state_ = test_game.board_to_matrix() + np.random.rand(4,4)/10.0\n",
    "        state = torch.from_numpy(state_).float() \n",
    "        if display: \n",
    "            test_game.display()\n",
    "        reward = test_game.reward() \n",
    "        if reward != -1: \n",
    "            if reward > 0: \n",
    "                status = 2\n",
    "                if display: \n",
    "                    print(f\"Game won! Reward: {reward}\")\n",
    "            else: \n",
    "                status = 0 \n",
    "                if display: \n",
    "                    print(f\"Game LOST. Reward: {reward}\")\n",
    "        i += 1 \n",
    "        if (i > 15): \n",
    "            if display: \n",
    "                print(\"Game lost; too many moves.\")\n",
    "            break \n",
    "    win = True if status == 2 else False \n",
    "    return win\n",
    "                          "
   ]
  },
  {
   "cell_type": "code",
   "execution_count": 105,
   "id": "d20327c4",
   "metadata": {},
   "outputs": [
    {
     "name": "stdout",
     "output_type": "stream",
     "text": [
      "d\n",
      "[['+' '-' ' ' ' ']\n",
      " [' ' 'W' ' ' 'P']\n",
      " [' ' ' ' ' ' ' ']\n",
      " [' ' ' ' ' ' ' ']]\n",
      "d\n",
      "[['+' '-' ' ' ' ']\n",
      " [' ' 'W' ' ' ' ']\n",
      " [' ' ' ' ' ' 'P']\n",
      " [' ' ' ' ' ' ' ']]\n",
      "l\n",
      "[['+' '-' ' ' ' ']\n",
      " [' ' 'W' ' ' ' ']\n",
      " [' ' ' ' 'P' ' ']\n",
      " [' ' ' ' ' ' ' ']]\n",
      "l\n",
      "[['+' '-' ' ' ' ']\n",
      " [' ' 'W' ' ' ' ']\n",
      " [' ' 'P' ' ' ' ']\n",
      " [' ' ' ' ' ' ' ']]\n",
      "l\n",
      "[['+' '-' ' ' ' ']\n",
      " [' ' 'W' ' ' ' ']\n",
      " ['P' ' ' ' ' ' ']\n",
      " [' ' ' ' ' ' ' ']]\n",
      "u\n",
      "[['+' '-' ' ' ' ']\n",
      " ['P' 'W' ' ' ' ']\n",
      " [' ' ' ' ' ' ' ']\n",
      " [' ' ' ' ' ' ' ']]\n",
      "u\n",
      "[['P' '-' ' ' ' ']\n",
      " [' ' 'W' ' ' ' ']\n",
      " [' ' ' ' ' ' ' ']\n",
      " [' ' ' ' ' ' ' ']]\n"
     ]
    }
   ],
   "source": [
    "game = Board(4)\n",
    "board = game.init_board()\n",
    "reward = -1 \n",
    "counter = 0\n",
    "while reward == -1: \n",
    "    move = model(torch.from_numpy(game.board_to_matrix()).float())\n",
    "    move = np.argmax(move.data.numpy())\n",
    "    action = action_set[move]\n",
    "    print(action)\n",
    "    game.makeMove(action)\n",
    "    game.display()\n",
    "    reward = game.reward()\n",
    "    counter += 1\n",
    "    if counter > 15:\n",
    "        break"
   ]
  },
  {
   "cell_type": "code",
   "execution_count": null,
   "id": "52278f5d",
   "metadata": {},
   "outputs": [],
   "source": []
  },
  {
   "cell_type": "markdown",
   "id": "d4d51331",
   "metadata": {},
   "source": [
    "### Q Learning with experience replay to tackle catastrophic forgetting"
   ]
  },
  {
   "cell_type": "code",
   "execution_count": 64,
   "id": "e9bc1a25",
   "metadata": {},
   "outputs": [],
   "source": [
    "l1 = 64 \n",
    "l2 = 150 \n",
    "l3 = 100 \n",
    "l4 = 4\n",
    "\n",
    "model = torch.nn.Sequential(\n",
    "    torch.nn.Flatten(-3,-1), # flatten the 2d game state to a 1d vector\n",
    "    torch.nn.Linear(l1,l2),  \n",
    "    torch.nn.ReLU(), \n",
    "    torch.nn.Linear(l2,l3), \n",
    "    torch.nn.ReLU(), \n",
    "    torch.nn.Linear(l3,l4)\n",
    ")\n",
    "\n",
    "lr=1e-3\n",
    "optimizer = torch.optim.Adam(model.parameters(), lr=lr)\n",
    "loss_fn = torch.nn.MSELoss()\n",
    "epsilon = 0.3\n",
    "gamma = 0.9 "
   ]
  },
  {
   "cell_type": "code",
   "execution_count": 65,
   "id": "0a55cd74",
   "metadata": {},
   "outputs": [],
   "source": [
    "# set hyperparameters, epochs, discount factor, epsilon, memory size and batch size \n",
    "# run for number of epochs \n",
    "# initialize new game and get the state \n",
    "# Play while havent lost or won up till a certain maximum number of moves \n",
    "# get predicted Q values and use epsilon to determine randomness \n",
    "# make the move and get the reward for the new state \n",
    "# check if the replay actions have exceeded the batch size \n",
    "# if exceeded, sample a minibatch \n",
    "# recompute the q1 value for the mini batch to get gradients \n",
    "# recompute the q2 values without gradient \n",
    "# calculate the reward which is current reward + predicted reward if game won, then future state is none \n",
    "# ground truth is the current maximum reward for the current action \n",
    "# back propagate the loss \n",
    "# step the optimizer\n",
    "# if the game has ended go to new epoch "
   ]
  },
  {
   "cell_type": "code",
   "execution_count": 66,
   "id": "d0f869d1",
   "metadata": {
    "scrolled": true
   },
   "outputs": [
    {
     "name": "stdout",
     "output_type": "stream",
     "text": [
      "d\n",
      "4999 :  0.06271923333406448\n"
     ]
    }
   ],
   "source": [
    "epochs = 5000 \n",
    "mem = 1000 \n",
    "batch_size = 200 \n",
    "max_moves = 50 \n",
    "replay_list = deque(maxlen=mem)\n",
    "losses = []\n",
    "\n",
    "action_set = {\n",
    "    0: \"u\", \n",
    "    1: \"d\",\n",
    "    2: \"l\", \n",
    "    3: \"r\"\n",
    "}\n",
    "\n",
    "for i in range(epochs): \n",
    "    game = Board(4)\n",
    "    game.init_board(deterministic=False)\n",
    "    state1 = game.board_to_matrix().reshape(1,4,4,4) + np.random.rand(1,4,4,4)/10\n",
    "    state1 = torch.from_numpy(state1).float() \n",
    "    status = 1\n",
    "    n_moves = 0\n",
    "    while status == 1:    \n",
    "        n_moves += 1 \n",
    "        q1 = model(state1)\n",
    "        _q1 = q1.data.numpy() \n",
    "        if np.random.random() < epsilon: \n",
    "            action_ = np.random.randint(0,4)\n",
    "        else: \n",
    "            action_ = np.argmax(_q1)\n",
    "        action = action_set[action_] \n",
    "        print(action)\n",
    "        game.makeMove(action)\n",
    "        state2_ = game.board_to_matrix().reshape(1,4,4,4) + np.random.rand(1,4,4,4)/10\n",
    "        state2 = torch.from_numpy(state2_).float() \n",
    "        reward = game.reward() \n",
    "        done = True if reward > 0 else False\n",
    "        exp = (state1, action_, state2, reward, done)\n",
    "        replay_list.append(exp)\n",
    "        state1 = state2\n",
    "        \n",
    "        if len(replay_list) > batch_size: \n",
    "            minibatch = random.sample(replay_list, batch_size)\n",
    "            rs = torch.Tensor([reward for (state1, action, state2, reward, done) in minibatch])\n",
    "            state1s = torch.cat([state1 for (state1, action, state2, reward, done) in minibatch], dim=0)\n",
    "            state2s = torch.cat([state2 for (state1, action, state2, reward, done) in minibatch], dim=0)\n",
    "            actions = torch.Tensor([action for (state1, action, state2, reward, done) in minibatch])\n",
    "            dones = torch.Tensor([done for (state1, action, state2, reward, done) in minibatch])\n",
    "            \n",
    "            #recompute the q values for gradient computation  \n",
    "            Q1s = model(state1s)\n",
    "            with torch.no_grad(): \n",
    "                Q2s = model(state2s)\n",
    "            Y = rs + (gamma * (1 - dones) * torch.max(Q2s, dim=1)[0]) \n",
    "            X = Q1s.gather(dim=1,index=actions.long().unsqueeze(dim=1)).squeeze()\n",
    "            loss = loss_fn(X, Y.detach())\n",
    "            optimizer.zero_grad() \n",
    "            loss.backward() \n",
    "            losses.append(loss.item())\n",
    "            print(i, \": \", loss.item())\n",
    "            clear_output(wait=True)\n",
    "            \n",
    "            optimizer.step() \n",
    "\n",
    "        if reward != -1 or n_moves>max_moves: \n",
    "            status = 0 \n",
    "            mov=0\n"
   ]
  },
  {
   "cell_type": "code",
   "execution_count": 72,
   "id": "251f8811",
   "metadata": {},
   "outputs": [
    {
     "data": {
      "text/plain": [
       "[<matplotlib.lines.Line2D at 0x2063342f130>]"
      ]
     },
     "execution_count": 72,
     "metadata": {},
     "output_type": "execute_result"
    },
    {
     "data": {
      "image/png": "[encoded data removed]",
      "text/plain": [
       "<Figure size 1152x720 with 1 Axes>"
      ]
     },
     "metadata": {
      "needs_background": "light"
     },
     "output_type": "display_data"
    }
   ],
   "source": [
    "plt.figure(figsize=(16,10))\n",
    "plt.plot(losses)"
   ]
  },
  {
   "cell_type": "code",
   "execution_count": 79,
   "id": "dd02ddfb",
   "metadata": {},
   "outputs": [
    {
     "name": "stdout",
     "output_type": "stream",
     "text": [
      "Games played: 1000, # of wins: 797\n",
      "Win percentage: 0.797\n"
     ]
    }
   ],
   "source": [
    "max_games = 1000\n",
    "wins = 0\n",
    "for i in range(max_games):\n",
    "    win = test_model(model, deterministic=False, display=False)\n",
    "    if win:\n",
    "        wins += 1\n",
    "win_perc = float(wins) / float(max_games)\n",
    "print(\"Games played: {0}, # of wins: {1}\".format(max_games,wins))\n",
    "print(\"Win percentage: {}\".format(win_perc))"
   ]
  },
  {
   "cell_type": "code",
   "execution_count": 88,
   "id": "91df755a",
   "metadata": {},
   "outputs": [
    {
     "name": "stdout",
     "output_type": "stream",
     "text": [
      "Initial state\n",
      "[[' ' ' ' ' ' ' ']\n",
      " [' ' ' ' ' ' ' ']\n",
      " ['W' ' ' '+' ' ']\n",
      " [' ' '-' ' ' 'P']]\n",
      "None\n",
      "Move #: 0; Taking action: u\n",
      "[[' ' ' ' ' ' ' ']\n",
      " [' ' ' ' ' ' ' ']\n",
      " ['W' ' ' '+' 'P']\n",
      " [' ' '-' ' ' ' ']]\n",
      "Move #: 1; Taking action: l\n",
      "[[' ' ' ' ' ' ' ']\n",
      " [' ' ' ' ' ' ' ']\n",
      " ['W' ' ' 'P' ' ']\n",
      " [' ' '-' ' ' ' ']]\n",
      "Game won! Reward: 10\n"
     ]
    },
    {
     "data": {
      "text/plain": [
       "True"
      ]
     },
     "execution_count": 88,
     "metadata": {},
     "output_type": "execute_result"
    }
   ],
   "source": [
    "test_model(model, deterministic=False, display=True)"
   ]
  },
  {
   "cell_type": "code",
   "execution_count": 7,
   "id": "e2611c4b",
   "metadata": {},
   "outputs": [],
   "source": [
    "# ma\n",
    "l1 = 64 \n",
    "l2 = 150 \n",
    "l3 = 100 \n",
    "l4 = 4\n",
    "\n",
    "model1 = torch.nn.Sequential(\n",
    "    torch.nn.Flatten(-3,-1), \n",
    "    torch.nn.Linear(l1,l2), \n",
    "    torch.nn.ReLU(), \n",
    "    torch.nn.Linear(l2,l3), \n",
    "    torch.nn.ReLU(),\n",
    "    torch.nn.Linear(l3,l4)\n",
    ")\n",
    "\n",
    "model2 = copy.deepcopy(model1)\n",
    "model2.load_state_dict(model1.state_dict())\n",
    "\n",
    "gamma = 0.9 \n",
    "epsilon = 0.3\n",
    "lr = 1e-3\n",
    "optimizer = torch.optim.Adam(model1.parameters(), lr=lr)\n",
    "loss_fn = torch.nn.MSELoss()\n"
   ]
  },
  {
   "cell_type": "code",
   "execution_count": null,
   "id": "b0b92165",
   "metadata": {},
   "outputs": [
    {
     "name": "stdout",
     "output_type": "stream",
     "text": [
      "4871 :  0.1151687502861023\n"
     ]
    }
   ],
   "source": [
    "mem_size = 1000 \n",
    "batch_size = 200\n",
    "replay = deque(maxlen=mem_size)\n",
    "max_moves = 50 \n",
    "sync_freq = 500\n",
    "epochs = 5000\n",
    "losses = []\n",
    "j = 0 \n",
    "\n",
    "for i in range(epochs): \n",
    "    game = Board(4)\n",
    "    game.init_board(deterministic=False)\n",
    "    state1_ = game.board_to_matrix().reshape(1,4,4,4) + np.random.rand(1,4,4,4)/10\n",
    "    state1 = torch.from_numpy(state1_).float() \n",
    "    status = 1\n",
    "    mov = 0 \n",
    "    while status == 1: \n",
    "        mov += 1\n",
    "        j += 1 \n",
    "        qval = model1(state1)\n",
    "        qval_ = qval.data.numpy()\n",
    "        if np.random.random() < epsilon: \n",
    "            action_ = np.random.randint(0,4)\n",
    "        else: \n",
    "            action_ = np.argmax(qval_)\n",
    "        action = action_set[action_]\n",
    "        game.makeMove(action)\n",
    "        reward = game.reward() \n",
    "        state2_ = game.board_to_matrix().reshape(1,4,4,4) + np.random.rand(1,4,4,4)/10\n",
    "        state2 = torch.from_numpy(state2_).float()\n",
    "        \n",
    "        done = reward > 0 \n",
    "        exp = (state1, action_, reward, state2, done)\n",
    "        replay.append(exp)\n",
    "        state1 = state2 \n",
    "        \n",
    "        if len(replay) > batch_size: \n",
    "            minibatch = random.sample(replay, batch_size)\n",
    "            rewards_batch = torch.Tensor([r for (s1, a, r, s2, done) in minibatch])\n",
    "            state1_batch = torch.cat([s1 for (s1, a, r, s2, done) in minibatch])\n",
    "            state2_batch = torch.cat([s2 for (s2, a, r, s2, done) in minibatch])\n",
    "            actions_batch = torch.Tensor([a for (s1, a, r, s2, done) in minibatch])\n",
    "            done_batch = torch.Tensor([done for (s1, a, r, s2, done) in minibatch])\n",
    "            \n",
    "            q1s = model1(state1_batch)\n",
    "            with torch.no_grad(): \n",
    "                q2s = model2(state2_batch)\n",
    "            \n",
    "            Y = rewards_batch + gamma * ((1-done_batch) * torch.max(q2s,dim=1)[0])\n",
    "            X = q1s.gather(dim=1, index=actions_batch.long().unsqueeze(dim=1)).squeeze() \n",
    "            loss = loss_fn(X, Y.detach())\n",
    "            optimizer.zero_grad() \n",
    "            print(i, \": \", loss.item())\n",
    "            clear_output(wait=True)\n",
    "            losses.append(loss.item())\n",
    "            loss.backward() \n",
    "            optimizer.step() \n",
    "            \n",
    "            if j%sync_freq == 0: \n",
    "                model2.load_state_dict(model1.state_dict())\n",
    "                \n",
    "        if reward != -1 or mov >= max_moves: \n",
    "            status = 0 \n",
    "            mov = 0"
   ]
  },
  {
   "cell_type": "code",
   "execution_count": 105,
   "id": "3c6e2b8e",
   "metadata": {},
   "outputs": [
    {
     "data": {
      "text/plain": [
       "[<matplotlib.lines.Line2D at 0x206393513d0>]"
      ]
     },
     "execution_count": 105,
     "metadata": {},
     "output_type": "execute_result"
    },
    {
     "data": {
      "image/png": "[encoded data removed]",
      "text/plain": [
       "<Figure size 432x288 with 1 Axes>"
      ]
     },
     "metadata": {
      "needs_background": "light"
     },
     "output_type": "display_data"
    }
   ],
   "source": [
    "plt.plot(losses)"
   ]
  },
  {
   "cell_type": "code",
   "execution_count": null,
   "id": "bbd04df0",
   "metadata": {},
   "outputs": [],
   "source": []
  }
 ],
 "metadata": {
  "kernelspec": {
   "display_name": "ai_env",
   "language": "python",
   "name": "ai_env"
  },
  "language_info": {
   "codemirror_mode": {
    "name": "ipython",
    "version": 3
   },
   "file_extension": ".py",
   "mimetype": "text/x-python",
   "name": "python",
   "nbconvert_exporter": "python",
   "pygments_lexer": "ipython3",
   "version": "3.8.8"
  }
 },
 "nbformat": 4,
 "nbformat_minor": 5
}
