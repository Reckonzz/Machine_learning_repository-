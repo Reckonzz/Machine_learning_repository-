{
 "cells": [
  {
   "cell_type": "code",
   "execution_count": null,
   "id": "0021e32f",
   "metadata": {},
   "outputs": [],
   "source": [
    "import torch "
   ]
  },
  {
   "cell_type": "code",
   "execution_count": null,
   "id": "37a0765a",
   "metadata": {},
   "outputs": [],
   "source": [
    "# set hyperparameters, epochs, discount factor, epsilon, memory size and batch size \n",
    "# run for number of epochs \n",
    "# initialize new game and get the state \n",
    "# Play while havent lost or won up till a certain maximum number of moves \n",
    "# get predicted Q values and use epsilon to determine randomness \n",
    "# make the move and get the reward for the new state \n",
    "# check if the replay actions have exceeded the batch size \n",
    "# if exceeded, sample a minibatch \n",
    "# recompute the q1 value for the mini batch to get gradients \n",
    "# recompute the q2 values without gradient \n",
    "# calculate the reward which is current reward + predicted reward if game won, then future state is none \n",
    "# ground truth is the current maximum reward for the current action \n",
    "# back propagate the loss \n",
    "# step the optimizer\n",
    "# if the game has ended go to new epoch \n"
   ]
  },
  {
   "cell_type": "code",
   "execution_count": 14,
   "id": "242826a1",
   "metadata": {},
   "outputs": [],
   "source": [
    "model = torch.nn.Sequential([\n",
    "    torch.nn.Flatten(0,2), # flatten the 2d game state to a 1d vector\n",
    "    torch.nn.Linear(64),  \n",
    "    torch.nn.RELU(), \n",
    "    torch.nn.Linear(128), \n",
    "    torch.nn.RELU(), \n",
    "    torch.nn.Linear(4)\n",
    "])\n",
    "\n",
    "loss_fn = torch.nn.MSELoss()\n",
    "gamma = 0.1\n",
    "epsilon = 1.0 "
   ]
  },
  {
   "cell_type": "code",
   "execution_count": 3,
   "id": "7b849be4",
   "metadata": {},
   "outputs": [
    {
     "data": {
      "text/plain": [
       "tensor([[ 0.0408,  0.0548, -1.8487,  0.6849],\n",
       "        [ 1.2505,  0.4845,  1.6063, -0.5111],\n",
       "        [ 1.1303, -0.2714, -0.6895, -2.5753],\n",
       "        [-0.3682, -0.7046,  0.8661, -0.8692]])"
      ]
     },
     "execution_count": 3,
     "metadata": {},
     "output_type": "execute_result"
    }
   ],
   "source": [
    "a = torch.randn(4,4)\n",
    "a"
   ]
  },
  {
   "cell_type": "code",
   "execution_count": 8,
   "id": "185d8f19",
   "metadata": {},
   "outputs": [
    {
     "data": {
      "text/plain": [
       "tensor([0.6849, 1.6063, 1.1303, 0.8661])"
      ]
     },
     "execution_count": 8,
     "metadata": {},
     "output_type": "execute_result"
    }
   ],
   "source": [
    "torch.max(a, dim=1)[0]"
   ]
  },
  {
   "cell_type": "code",
   "execution_count": 10,
   "id": "b2a07acf",
   "metadata": {},
   "outputs": [
    {
     "data": {
      "text/plain": [
       "tensor([3, 2, 0, 2])"
      ]
     },
     "execution_count": 10,
     "metadata": {},
     "output_type": "execute_result"
    }
   ],
   "source": [
    "action = torch.max(a, dim=1)[1]\n",
    "action"
   ]
  },
  {
   "cell_type": "code",
   "execution_count": 11,
   "id": "d42be15f",
   "metadata": {},
   "outputs": [
    {
     "data": {
      "text/plain": [
       "tensor([0.6849, 1.6063, 1.1303, 0.8661])"
      ]
     },
     "execution_count": 11,
     "metadata": {},
     "output_type": "execute_result"
    }
   ],
   "source": [
    "a.gather(dim=1, index=action.long().unsqueeze(dim=1)).squeeze()"
   ]
  },
  {
   "cell_type": "code",
   "execution_count": 13,
   "id": "62ebf419",
   "metadata": {},
   "outputs": [
    {
     "data": {
      "text/plain": [
       "tensor([[3],\n",
       "        [2],\n",
       "        [0],\n",
       "        [2]])"
      ]
     },
     "execution_count": 13,
     "metadata": {},
     "output_type": "execute_result"
    }
   ],
   "source": [
    "action.long().unsqueeze(dim=1)"
   ]
  },
  {
   "cell_type": "code",
   "execution_count": null,
   "id": "b480cf45",
   "metadata": {},
   "outputs": [],
   "source": []
  }
 ],
 "metadata": {
  "kernelspec": {
   "display_name": "ai_env",
   "language": "python",
   "name": "ai_env"
  },
  "language_info": {
   "codemirror_mode": {
    "name": "ipython",
    "version": 3
   },
   "file_extension": ".py",
   "mimetype": "text/x-python",
   "name": "python",
   "nbconvert_exporter": "python",
   "pygments_lexer": "ipython3",
   "version": "3.8.8"
  }
 },
 "nbformat": 4,
 "nbformat_minor": 5
}
