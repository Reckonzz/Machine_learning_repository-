{
 "cells": [
  {
   "cell_type": "markdown",
   "id": "91ab0aeb",
   "metadata": {},
   "source": [
    "## Support Vector Machines \n",
    "\n",
    "### Optimization problem where margin is maximised \n",
    "The margin is defined as the perpendicular distance between the decision boundary and the closest of the data points \n",
    "\n",
    "- priors: p(w)\n",
    "- likelihood: p(D|w)\n",
    "- posterior: p(w|D) \n",
    "\n",
    "$p(w|D) = \\frac{p(D|w)p(w)}{p(D)}$\n"
   ]
  },
  {
   "cell_type": "markdown",
   "id": "fdff7bab",
   "metadata": {},
   "source": [
    "### Imports"
   ]
  },
  {
   "cell_type": "code",
   "execution_count": 21,
   "id": "e7f3e444",
   "metadata": {},
   "outputs": [],
   "source": [
    "import numpy as np\n",
    "import matplotlib.pyplot as plt "
   ]
  },
  {
   "cell_type": "markdown",
   "id": "8615be09",
   "metadata": {},
   "source": [
    "### Gaussian Kernel\n",
    "\n",
    "$G_{1D}(x; \\sigma) = \\frac{1}{\\sqrt{2\\pi}\\sigma}e^{-\\frac{x^2}{2\\sigma^2}}$ \\\n",
    "$G_{2D}(x; y; \\sigma) = \\frac{1}{(2\\pi\\sigma^2}e^{-\\frac{x^2 + y^2}{2\\sigma^2}}$ \\\n",
    "$G_{ND}(x; \\sigma) = \\frac{1}{(\\sqrt{2\\pi}\\sigma)^N}e^{-\\frac{|x|^2}{2\\sigma^2}}$ \n",
    "\n",
    "Where $\\sigma$ determines the width of the Gaussian Kernel\n"
   ]
  },
  {
   "cell_type": "code",
   "execution_count": 27,
   "id": "7916f1c6",
   "metadata": {},
   "outputs": [
    {
     "data": {
      "image/png": "[encoded data removed]",
      "text/plain": [
       "<Figure size 432x288 with 1 Axes>"
      ]
     },
     "metadata": {
      "needs_background": "light"
     },
     "output_type": "display_data"
    }
   ],
   "source": [
    "n = 10 \n",
    "X_one_d = np.linspace(-5,5,200)\n",
    "X_one_d = X_one_d.reshape(-1, 1)\n",
    "\n",
    "def Gaussian(X, sigma): \n",
    "    N = X.shape[1]\n",
    "    y = 1/(np.sqrt(2*np.pi)*sigma)**N * np.exp(-X**2/(2*sigma**2))\n",
    "    plt.plot(X,y)\n",
    "    plt.show()\n",
    "    return y \n",
    "\n",
    "y = Gaussian(X_one_d, 1)\n",
    "\n"
   ]
  },
  {
   "cell_type": "markdown",
   "id": "56500b09",
   "metadata": {},
   "source": [
    "### Primal Problem"
   ]
  },
  {
   "cell_type": "code",
   "execution_count": null,
   "id": "4ee05f69",
   "metadata": {},
   "outputs": [],
   "source": []
  },
  {
   "cell_type": "code",
   "execution_count": null,
   "id": "0412cd9a",
   "metadata": {},
   "outputs": [],
   "source": []
  },
  {
   "cell_type": "code",
   "execution_count": null,
   "id": "c597c60d",
   "metadata": {},
   "outputs": [],
   "source": []
  },
  {
   "cell_type": "code",
   "execution_count": null,
   "id": "38a90e2d",
   "metadata": {},
   "outputs": [],
   "source": []
  },
  {
   "cell_type": "code",
   "execution_count": null,
   "id": "7f8c0c03",
   "metadata": {},
   "outputs": [],
   "source": []
  },
  {
   "cell_type": "code",
   "execution_count": null,
   "id": "d93afd65",
   "metadata": {},
   "outputs": [],
   "source": []
  },
  {
   "cell_type": "code",
   "execution_count": null,
   "id": "a11dcb17",
   "metadata": {},
   "outputs": [],
   "source": []
  },
  {
   "cell_type": "code",
   "execution_count": null,
   "id": "bffb82d6",
   "metadata": {},
   "outputs": [],
   "source": []
  },
  {
   "cell_type": "code",
   "execution_count": null,
   "id": "37ff2f27",
   "metadata": {},
   "outputs": [],
   "source": []
  },
  {
   "cell_type": "code",
   "execution_count": null,
   "id": "eda0d5b8",
   "metadata": {},
   "outputs": [],
   "source": []
  }
 ],
 "metadata": {
  "kernelspec": {
   "display_name": "ai_env",
   "language": "python",
   "name": "ai_env"
  },
  "language_info": {
   "codemirror_mode": {
    "name": "ipython",
    "version": 3
   },
   "file_extension": ".py",
   "mimetype": "text/x-python",
   "name": "python",
   "nbconvert_exporter": "python",
   "pygments_lexer": "ipython3",
   "version": "3.8.8"
  }
 },
 "nbformat": 4,
 "nbformat_minor": 5
}
