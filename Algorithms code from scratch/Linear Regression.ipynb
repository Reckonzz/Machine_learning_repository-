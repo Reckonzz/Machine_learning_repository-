{
 "cells": [
  {
   "cell_type": "code",
   "execution_count": 1,
   "id": "910e6cb7",
   "metadata": {},
   "outputs": [],
   "source": [
    "import numpy as np \n",
    "import matplotlib.pyplot as plt \n",
    "from sklearn.metrics import mean_squared_error"
   ]
  },
  {
   "cell_type": "code",
   "execution_count": 2,
   "id": "4c834910",
   "metadata": {},
   "outputs": [],
   "source": [
    "def linear_regression_closed_form(X, y):\n",
    "    n = X.shape[0]\n",
    "    A = 1/n * X.T @ X \n",
    "    b = 1/n * X.T @ y \n",
    "    theta = np.linalg.inv(A) @ b\n",
    "    \n",
    "    \n",
    "    return theta "
   ]
  },
  {
   "cell_type": "code",
   "execution_count": 3,
   "id": "143b543b",
   "metadata": {},
   "outputs": [],
   "source": [
    "X_with_offset = np.append(np.array([[1],[2],[3],[3]]), np.ones((4,1)), axis=1)\n",
    "X = np.array([[1],[2],[3],[3]])\n",
    "y = np.array([1,1,2,3])\n",
    "# y = np.squeeze(2*X + 103)"
   ]
  },
  {
   "cell_type": "code",
   "execution_count": 4,
   "id": "7f5c547b",
   "metadata": {},
   "outputs": [
    {
     "data": {
      "text/plain": [
       "array([0.7826087])"
      ]
     },
     "execution_count": 4,
     "metadata": {},
     "output_type": "execute_result"
    }
   ],
   "source": [
    "theta = linear_regression_closed_form(X,y)\n",
    "theta"
   ]
  },
  {
   "cell_type": "code",
   "execution_count": 5,
   "id": "6101c3c5",
   "metadata": {},
   "outputs": [
    {
     "data": {
      "text/plain": [
       "[<matplotlib.lines.Line2D at 0x1eb2635c3d0>]"
      ]
     },
     "execution_count": 5,
     "metadata": {},
     "output_type": "execute_result"
    },
    {
     "data": {
      "image/png": "[encoded data removed]",
      "text/plain": [
       "<Figure size 432x288 with 1 Axes>"
      ]
     },
     "metadata": {
      "needs_background": "light"
     },
     "output_type": "display_data"
    }
   ],
   "source": [
    "plt.scatter(X, y)\n",
    "plt.plot(X, theta@ X.T)"
   ]
  },
  {
   "cell_type": "code",
   "execution_count": 6,
   "id": "fa3fab49",
   "metadata": {},
   "outputs": [
    {
     "data": {
      "text/plain": [
       "0.22826086956521738"
      ]
     },
     "execution_count": 6,
     "metadata": {},
     "output_type": "execute_result"
    }
   ],
   "source": [
    "mean_squared_error(y, theta @ X.T)"
   ]
  },
  {
   "cell_type": "code",
   "execution_count": 7,
   "id": "88514d1c",
   "metadata": {},
   "outputs": [
    {
     "name": "stdout",
     "output_type": "stream",
     "text": [
      "[ 0.81818182 -0.09090909]\n"
     ]
    }
   ],
   "source": [
    "theta_with_offset = linear_regression_closed_form(X_with_offset ,y)\n",
    "print(theta_with_offset)"
   ]
  },
  {
   "cell_type": "code",
   "execution_count": null,
   "id": "3e8da0ac",
   "metadata": {},
   "outputs": [],
   "source": []
  },
  {
   "cell_type": "code",
   "execution_count": 17,
   "id": "16d34c70",
   "metadata": {},
   "outputs": [
    {
     "data": {
      "text/plain": [
       "[<matplotlib.lines.Line2D at 0x1eb29a96be0>]"
      ]
     },
     "execution_count": 17,
     "metadata": {},
     "output_type": "execute_result"
    },
    {
     "data": {
      "image/png": "[encoded data removed]",
      "text/plain": [
       "<Figure size 432x288 with 1 Axes>"
      ]
     },
     "metadata": {
      "needs_background": "light"
     },
     "output_type": "display_data"
    }
   ],
   "source": [
    "plt.scatter(X, y)\n",
    "plt.xlim(0,3.2)\n",
    "plt.ylim(0,3.5)\n",
    "plt.plot(X, theta_with_offset @ X_with_offset.T, c=\"orange\")\n",
    "plt.plot(X, theta@X.T, c=\"green\")\n",
    "plt.plot(X, np.array([1,-0.5])@X_with_offset.T, c=\"blue\")"
   ]
  },
  {
   "cell_type": "code",
   "execution_count": 9,
   "id": "c1406b90",
   "metadata": {},
   "outputs": [
    {
     "data": {
      "text/plain": [
       "0.2272727272727273"
      ]
     },
     "execution_count": 9,
     "metadata": {},
     "output_type": "execute_result"
    }
   ],
   "source": [
    "mean_squared_error(y, theta_with_offset @ X_with_offset.T)"
   ]
  },
  {
   "cell_type": "code",
   "execution_count": 18,
   "id": "627a7c27",
   "metadata": {},
   "outputs": [
    {
     "data": {
      "text/plain": [
       "0.25"
      ]
     },
     "execution_count": 18,
     "metadata": {},
     "output_type": "execute_result"
    }
   ],
   "source": [
    "mean_squared_error(y, np.array([1, -0.5]) @ X_with_offset.T)"
   ]
  },
  {
   "cell_type": "code",
   "execution_count": 10,
   "id": "bc27cf03",
   "metadata": {},
   "outputs": [
    {
     "name": "stdout",
     "output_type": "stream",
     "text": [
      "[ 0.81818182 -0.09090909]\n"
     ]
    },
    {
     "data": {
      "text/plain": [
       "0.22727272727272727"
      ]
     },
     "execution_count": 10,
     "metadata": {},
     "output_type": "execute_result"
    }
   ],
   "source": [
    "import numpy as np\n",
    "from sklearn.linear_model import LinearRegression\n",
    "model = LinearRegression(fit_intercept=False).fit(X_with_offset, y)\n",
    "print(model.coef_)\n",
    "mean_squared_error(y, model.predict(X_with_offset))"
   ]
  },
  {
   "cell_type": "code",
   "execution_count": 11,
   "id": "313262f1",
   "metadata": {},
   "outputs": [
    {
     "data": {
      "text/plain": [
       "array([ 0.81818182, -0.09090909])"
      ]
     },
     "execution_count": 11,
     "metadata": {},
     "output_type": "execute_result"
    }
   ],
   "source": [
    "np.linalg.inv(1/4*X_with_offset.T @ X_with_offset) @ (1/4*X_with_offset.T @ y)"
   ]
  },
  {
   "cell_type": "code",
   "execution_count": 19,
   "id": "3e4a7e8a",
   "metadata": {},
   "outputs": [
    {
     "data": {
      "text/plain": [
       "array([1, 1, 2, 3])"
      ]
     },
     "execution_count": 19,
     "metadata": {},
     "output_type": "execute_result"
    }
   ],
   "source": [
    "y"
   ]
  },
  {
   "cell_type": "code",
   "execution_count": 20,
   "id": "90ed4240",
   "metadata": {},
   "outputs": [
    {
     "data": {
      "text/plain": [
       "array([[1],\n",
       "       [2],\n",
       "       [3],\n",
       "       [3]])"
      ]
     },
     "execution_count": 20,
     "metadata": {},
     "output_type": "execute_result"
    }
   ],
   "source": [
    "X"
   ]
  },
  {
   "cell_type": "code",
   "execution_count": 24,
   "id": "72342a7d",
   "metadata": {},
   "outputs": [
    {
     "data": {
      "text/plain": [
       "0.11413043478260869"
      ]
     },
     "execution_count": 24,
     "metadata": {},
     "output_type": "execute_result"
    }
   ],
   "source": [
    "((1-18/23)**2 + (1-18/23*2)**2 + (2 - 18/23* 3)**2 + (3-18/23*3)**2)/4/2"
   ]
  },
  {
   "cell_type": "code",
   "execution_count": 25,
   "id": "316d6707",
   "metadata": {},
   "outputs": [
    {
     "data": {
      "text/plain": [
       "0.11363636363636363"
      ]
     },
     "execution_count": 25,
     "metadata": {},
     "output_type": "execute_result"
    }
   ],
   "source": [
    "0.22727272727272727/2"
   ]
  },
  {
   "cell_type": "code",
   "execution_count": null,
   "id": "6d38b73e",
   "metadata": {},
   "outputs": [],
   "source": []
  },
  {
   "cell_type": "code",
   "execution_count": null,
   "id": "c8d6d566",
   "metadata": {},
   "outputs": [],
   "source": []
  }
 ],
 "metadata": {
  "kernelspec": {
   "display_name": "ai_env",
   "language": "python",
   "name": "ai_env"
  },
  "language_info": {
   "codemirror_mode": {
    "name": "ipython",
    "version": 3
   },
   "file_extension": ".py",
   "mimetype": "text/x-python",
   "name": "python",
   "nbconvert_exporter": "python",
   "pygments_lexer": "ipython3",
   "version": "3.8.8"
  }
 },
 "nbformat": 4,
 "nbformat_minor": 5
}
