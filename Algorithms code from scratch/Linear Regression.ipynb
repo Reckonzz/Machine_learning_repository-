{
 "cells": [
  {
   "cell_type": "code",
   "execution_count": 1,
   "id": "eb067ce6",
   "metadata": {},
   "outputs": [],
   "source": [
    "import numpy as np "
   ]
  },
  {
   "cell_type": "code",
   "execution_count": 3,
   "id": "6dbc06a8",
   "metadata": {},
   "outputs": [],
   "source": [
    "def linear_regression_closed_form(X, y):\n",
    "    n = X.shape[0]\n",
    "    A = 1/n * X.T @ X \n",
    "    b = 1/n * X.T @ y \n",
    "    theta = np.linalg.inv(A) @ b\n",
    "    return theta "
   ]
  },
  {
   "cell_type": "code",
   "execution_count": null,
   "id": "df3fe6dd",
   "metadata": {},
   "outputs": [],
   "source": [
    "X"
   ]
  }
 ],
 "metadata": {
  "kernelspec": {
   "display_name": "Python 3 (ipykernel)",
   "language": "python",
   "name": "python3"
  },
  "language_info": {
   "codemirror_mode": {
    "name": "ipython",
    "version": 3
   },
   "file_extension": ".py",
   "mimetype": "text/x-python",
   "name": "python",
   "nbconvert_exporter": "python",
   "pygments_lexer": "ipython3",
   "version": "3.8.8"
  }
 },
 "nbformat": 4,
 "nbformat_minor": 5
}
