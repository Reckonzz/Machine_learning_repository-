{
 "cells": [
  {
   "cell_type": "code",
   "execution_count": 1,
   "id": "05017f1e",
   "metadata": {},
   "outputs": [],
   "source": [
    "import numpy as np "
   ]
  },
  {
   "cell_type": "code",
   "execution_count": 2,
   "id": "5cdfbced",
   "metadata": {},
   "outputs": [],
   "source": [
    "data = np.array([\n",
    "    [0, 0, 1, 2, 1],\n",
    "    [0, 0, 3, 0, 1],\n",
    "    [4, 1, 1, 1, -1],\n",
    "    [1, 2, 0, 1, -1], \n",
    "    [1, 0, 0, 2, -1]\n",
    "])"
   ]
  },
  {
   "cell_type": "code",
   "execution_count": 3,
   "id": "714343fb",
   "metadata": {},
   "outputs": [
    {
     "data": {
      "text/plain": [
       "array([0, 0, 1, 2])"
      ]
     },
     "execution_count": 3,
     "metadata": {},
     "output_type": "execute_result"
    }
   ],
   "source": [
    "data[0, :4]"
   ]
  },
  {
   "cell_type": "code",
   "execution_count": 8,
   "id": "0b7a946a",
   "metadata": {},
   "outputs": [
    {
     "name": "stdout",
     "output_type": "stream",
     "text": [
      "Iteration  1\n",
      "0.0\n",
      " \n",
      "Iteration  2\n",
      "0.0\n",
      " \n",
      "Iteration  3\n",
      "0.0\n",
      "Updating on iteration 3\n",
      "theta 3 = [-4. -1. -1. -1.]\n",
      " \n",
      "Iteration  4\n",
      "-8.0\n",
      " \n",
      "Iteration  5\n",
      "-7.0\n",
      " \n",
      "Iteration  6\n",
      "-4.0\n",
      "Updating on iteration 6\n",
      "theta 6 = [-4. -1.  0.  1.]\n",
      " \n",
      "Iteration  7\n",
      "0.0\n",
      " \n",
      "Iteration  8\n",
      "-16.0\n",
      " \n",
      "Iteration  9\n",
      "-5.0\n",
      " \n",
      "Iteration  10\n",
      "-2.0\n",
      " \n",
      "Iteration  11\n",
      "2.0\n",
      " \n",
      "Iteration  12\n",
      "0.0\n",
      " \n",
      "Iteration  13\n",
      "-16.0\n",
      " \n",
      "Iteration  14\n",
      "-5.0\n",
      " \n",
      "Iteration  15\n",
      "-2.0\n",
      " \n"
     ]
    }
   ],
   "source": [
    "t = 0 \n",
    "theta = np.zeros(data.shape[1] - 1)\n",
    "theta_0 = 0\n",
    "\n",
    "while True: \n",
    "    for i in range(data.shape[0]): \n",
    "        xt, yt = data[i,:4], data[i,-1]\n",
    "        t += 1 \n",
    "        print(\"Iteration \", t)\n",
    "        output = xt.dot(theta) + theta_0 \n",
    "        print(output)\n",
    "        if output >= 0: \n",
    "            h = 1   \n",
    "        else: \n",
    "            h = -1\n",
    "        if h != yt:\n",
    "            theta += yt * xt\n",
    "            theta_0 += yt\n",
    "            print(f\"Updating on iteration {t}\")\n",
    "            print(f\"theta {t} = {theta}\")\n",
    "        print(\" \")\n",
    "    if t >= 15: \n",
    "        break\n",
    "    "
   ]
  },
  {
   "cell_type": "code",
   "execution_count": 5,
   "id": "7a5819cf",
   "metadata": {},
   "outputs": [],
   "source": [
    "from sklearn.metrics import hinge_loss\n",
    "import numpy as np"
   ]
  },
  {
   "cell_type": "code",
   "execution_count": 6,
   "id": "06f4cf5f",
   "metadata": {},
   "outputs": [],
   "source": [
    "data = np.array([\n",
    "    [1,1,-1], \n",
    "    [3,1,-1],\n",
    "    [2,3,-1], \n",
    "    [2,2,1],\n",
    "    [3,4,1],\n",
    "    [4,3,1]\n",
    "])"
   ]
  },
  {
   "cell_type": "code",
   "execution_count": 9,
   "id": "ff48ed5f",
   "metadata": {},
   "outputs": [
    {
     "data": {
      "text/plain": [
       "(array([[1, 1],\n",
       "        [3, 1],\n",
       "        [2, 3],\n",
       "        [2, 2],\n",
       "        [3, 4],\n",
       "        [4, 3]]),\n",
       " array([-1, -1, -1,  1,  1,  1]))"
      ]
     },
     "execution_count": 9,
     "metadata": {},
     "output_type": "execute_result"
    }
   ],
   "source": [
    "x, y = data[:, :2], data[:, -1]\n",
    "x, y"
   ]
  },
  {
   "cell_type": "code",
   "execution_count": 15,
   "id": "b53383a9",
   "metadata": {},
   "outputs": [
    {
     "ename": "TypeError",
     "evalue": "dispatcher for __array_function__ did not return an iterable",
     "output_type": "error",
     "traceback": [
      "\u001b[1;31m---------------------------------------------------------------------------\u001b[0m",
      "\u001b[1;31mTypeError\u001b[0m                                 Traceback (most recent call last)",
      "\u001b[1;32m~\\AppData\\Local\\Temp/ipykernel_37096/2265651002.py\u001b[0m in \u001b[0;36m<module>\u001b[1;34m\u001b[0m\n\u001b[1;32m----> 1\u001b[1;33m \u001b[0mnp\u001b[0m\u001b[1;33m.\u001b[0m\u001b[0mconcatenate\u001b[0m\u001b[1;33m(\u001b[0m\u001b[1;36m1\u001b[0m\u001b[1;33m,\u001b[0m \u001b[0mdata\u001b[0m\u001b[1;33m[\u001b[0m\u001b[0mi\u001b[0m\u001b[1;33m,\u001b[0m \u001b[1;33m:\u001b[0m\u001b[1;36m2\u001b[0m\u001b[1;33m]\u001b[0m\u001b[1;33m)\u001b[0m\u001b[1;33m\u001b[0m\u001b[1;33m\u001b[0m\u001b[0m\n\u001b[0m",
      "\u001b[1;32m<__array_function__ internals>\u001b[0m in \u001b[0;36mconcatenate\u001b[1;34m(*args, **kwargs)\u001b[0m\n",
      "\u001b[1;31mTypeError\u001b[0m: dispatcher for __array_function__ did not return an iterable"
     ]
    }
   ],
   "source": [
    "np.concatenate(1, data[i, :2])"
   ]
  },
  {
   "cell_type": "code",
   "execution_count": 45,
   "id": "6ca82514",
   "metadata": {},
   "outputs": [
    {
     "name": "stdout",
     "output_type": "stream",
     "text": [
      "Iteration:  1\n",
      "Theta:  [-1. -1. -1.]\n",
      "Hinge loss:  4.0\n",
      "\n",
      "Iteration:  4\n",
      "Theta:  [-0.5  0.   0. ]\n",
      "Hinge loss:  1.0\n",
      "\n",
      "Iteration:  5\n",
      "Theta:  [-0.16666667  1.          1.33333333]\n",
      "Hinge loss:  2.527777777777778\n",
      "\n"
     ]
    }
   ],
   "source": [
    "k = 0 \n",
    "theta = np.zeros(3)\n",
    "for i in range(data.shape[0]): \n",
    "    x_i, y_i = np.concatenate([[1], data[i, :2]]), data[i, -1]\n",
    "    if y_i * x_i.dot(theta) <= 1: \n",
    "        theta += 1/(k+1) * y_i * x_i\n",
    "        print(\"Iteration: \", i+1) \n",
    "        print(\"Theta: \", theta)\n",
    "        k += 1 \n",
    "        print(\"Hinge loss: \", hinge_loss(data[:, -1], theta@np.c_[np.ones(data.shape[0]), data[:, :2]].T))\n",
    "        print()\n",
    "    if k == 3: \n",
    "        break\n",
    "    \n",
    "    \n",
    "    "
   ]
  },
  {
   "cell_type": "code",
   "execution_count": 28,
   "id": "91314c46",
   "metadata": {},
   "outputs": [
    {
     "data": {
      "text/plain": [
       "array([1., 1., 1., 1., 1., 1.])"
      ]
     },
     "execution_count": 28,
     "metadata": {},
     "output_type": "execute_result"
    }
   ],
   "source": [
    "np.ones(data.shape[0])"
   ]
  },
  {
   "cell_type": "code",
   "execution_count": 36,
   "id": "c17c544b",
   "metadata": {},
   "outputs": [
    {
     "data": {
      "text/plain": [
       "(6, 3)"
      ]
     },
     "execution_count": 36,
     "metadata": {},
     "output_type": "execute_result"
    }
   ],
   "source": [
    "np.c_[np.ones(data.shape[0]), data[:, :2]].shape"
   ]
  },
  {
   "cell_type": "code",
   "execution_count": null,
   "id": "7324524c",
   "metadata": {},
   "outputs": [],
   "source": []
  }
 ],
 "metadata": {
  "kernelspec": {
   "display_name": "ai_env",
   "language": "python",
   "name": "ai_env"
  },
  "language_info": {
   "codemirror_mode": {
    "name": "ipython",
    "version": 3
   },
   "file_extension": ".py",
   "mimetype": "text/x-python",
   "name": "python",
   "nbconvert_exporter": "python",
   "pygments_lexer": "ipython3",
   "version": "3.8.8"
  }
 },
 "nbformat": 4,
 "nbformat_minor": 5
}
