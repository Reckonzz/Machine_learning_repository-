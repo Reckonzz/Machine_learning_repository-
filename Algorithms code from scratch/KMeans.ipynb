{
 "cells": [
  {
   "cell_type": "code",
   "execution_count": 2,
   "id": "82c779c5",
   "metadata": {},
   "outputs": [],
   "source": [
    "import numpy as np\n",
    "import matplotlib.pyplot as plt "
   ]
  },
  {
   "cell_type": "code",
   "execution_count": 3,
   "id": "6dd6ca5f",
   "metadata": {},
   "outputs": [],
   "source": [
    "data = np.array([[0,0],[1,1], [1,-1],[3,1],[3,-1],[4,0]])"
   ]
  },
  {
   "cell_type": "code",
   "execution_count": 4,
   "id": "3462d639",
   "metadata": {},
   "outputs": [],
   "source": [
    "from collections import defaultdict \n",
    "\n",
    "def Kmeans(data, initial_centroids, k=2, use_medoids=False): \n",
    "    centroids = initial_centroids \n",
    "    prev_centroids = np.array([])\n",
    "    for i in range(k): \n",
    "        np.append(prev_centroids,[float('inf'), float('inf')])\n",
    "    iteration = 1 \n",
    "    while not np.array_equal(centroids, prev_centroids):\n",
    "        print(\"Iteration: \", iteration)\n",
    "        clusters = defaultdict(lambda: np.empty((0,2)))\n",
    "       \n",
    "        for d in data:\n",
    "            distance_from_centroids = np.linalg.norm(d - centroids, axis = 1)\n",
    "            print(\"d: \", d)\n",
    "            print(\"Distance from Centroids:\", distance_from_centroids)\n",
    "            assigned_centroid = np.argmin(distance_from_centroids)\n",
    "            print(\"Assigned Centroid: \", assigned_centroid)\n",
    "            \n",
    "            clusters[assigned_centroid] = np.append(clusters[assigned_centroid],[d], axis=0)\n",
    "        colours = [\"blue\", \"purple\", \"green\", \"yellow\", \"pink\", \"orange\"]\n",
    "        plt.title(f\"Iteration {iteration - 1}\")\n",
    "        for i, cluster in enumerate(clusters.values()): \n",
    "            print(cluster)\n",
    "            plt.scatter(cluster[:,0], cluster[:,1], marker = \"x\", s = 200, c=colours[i])\n",
    "        \n",
    "        print(\"val\", centroids[:,0], centroids[:,1])\n",
    "        for i, centroid in enumerate(centroids): \n",
    "            print(centroid)\n",
    "            plt.scatter(centroid[0], centroid[1],  marker =\"o\", c=colours[i], s= 100)\n",
    "            plt.text(centroid[0], centroid[1]+0.1, f\"{centroid}\", c=colours[i])\n",
    "        plt.show()\n",
    "        prev_centroids = centroids \n",
    "        new_centroids = []\n",
    "        for i in range(k):\n",
    "            print(cluster[i])\n",
    "            if len(cluster[i])>0: \n",
    "                new_centroids.append(np.mean(clusters[i], axis=0))\n",
    "            else: \n",
    "                new_centroids.append(centroids[i])\n",
    "        \n",
    "        centroids = np.array(new_centroids)\n",
    "        iteration += 1 \n",
    "        print(\"Centroids: \", centroids)\n",
    "    return centroids        \n",
    "        "
   ]
  },
  {
   "cell_type": "code",
   "execution_count": 5,
   "id": "28f696c1",
   "metadata": {},
   "outputs": [
    {
     "data": {
      "text/plain": [
       "array([[2., 3.]])"
      ]
     },
     "execution_count": 5,
     "metadata": {},
     "output_type": "execute_result"
    }
   ],
   "source": [
    "np.append(np.empty((0,2)), [[2,3]], axis=0)"
   ]
  },
  {
   "cell_type": "code",
   "execution_count": 6,
   "id": "810974d4",
   "metadata": {},
   "outputs": [
    {
     "name": "stdout",
     "output_type": "stream",
     "text": [
      "Iteration:  1\n",
      "d:  [0 0]\n",
      "Distance from Centroids: [1.         1.41421356]\n",
      "Assigned Centroid:  0\n",
      "d:  [1 1]\n",
      "Distance from Centroids: [1. 2.]\n",
      "Assigned Centroid:  0\n",
      "d:  [ 1 -1]\n",
      "Distance from Centroids: [2.23606798 0.        ]\n",
      "Assigned Centroid:  1\n",
      "d:  [3 1]\n",
      "Distance from Centroids: [3.         2.82842712]\n",
      "Assigned Centroid:  1\n",
      "d:  [ 3 -1]\n",
      "Distance from Centroids: [3.60555128 2.        ]\n",
      "Assigned Centroid:  1\n",
      "d:  [4 0]\n",
      "Distance from Centroids: [4.12310563 3.16227766]\n",
      "Assigned Centroid:  1\n",
      "[[0. 0.]\n",
      " [1. 1.]]\n",
      "[[ 1. -1.]\n",
      " [ 3.  1.]\n",
      " [ 3. -1.]\n",
      " [ 4.  0.]]\n",
      "val [0 1] [ 1 -1]\n",
      "[0 1]\n",
      "[ 1 -1]\n"
     ]
    },
    {
     "data": {
      "image/png": "[encoded data removed]",
      "text/plain": [
       "<Figure size 432x288 with 1 Axes>"
      ]
     },
     "metadata": {
      "needs_background": "light"
     },
     "output_type": "display_data"
    },
    {
     "name": "stdout",
     "output_type": "stream",
     "text": [
      "[ 1. -1.]\n",
      "[3. 1.]\n",
      "Centroids:  [[ 0.5   0.5 ]\n",
      " [ 2.75 -0.25]]\n",
      "Iteration:  2\n",
      "d:  [0 0]\n",
      "Distance from Centroids: [0.70710678 2.76134025]\n",
      "Assigned Centroid:  0\n",
      "d:  [1 1]\n",
      "Distance from Centroids: [0.70710678 2.15058132]\n",
      "Assigned Centroid:  0\n",
      "d:  [ 1 -1]\n",
      "Distance from Centroids: [1.58113883 1.90394328]\n",
      "Assigned Centroid:  0\n",
      "d:  [3 1]\n",
      "Distance from Centroids: [2.54950976 1.27475488]\n",
      "Assigned Centroid:  1\n",
      "d:  [ 3 -1]\n",
      "Distance from Centroids: [2.91547595 0.79056942]\n",
      "Assigned Centroid:  1\n",
      "d:  [4 0]\n",
      "Distance from Centroids: [3.53553391 1.27475488]\n",
      "Assigned Centroid:  1\n",
      "[[ 0.  0.]\n",
      " [ 1.  1.]\n",
      " [ 1. -1.]]\n",
      "[[ 3.  1.]\n",
      " [ 3. -1.]\n",
      " [ 4.  0.]]\n",
      "val [0.5  2.75] [ 0.5  -0.25]\n",
      "[0.5 0.5]\n",
      "[ 2.75 -0.25]\n"
     ]
    },
    {
     "data": {
      "image/png": "[encoded data removed]",
      "text/plain": [
       "<Figure size 432x288 with 1 Axes>"
      ]
     },
     "metadata": {
      "needs_background": "light"
     },
     "output_type": "display_data"
    },
    {
     "name": "stdout",
     "output_type": "stream",
     "text": [
      "[3. 1.]\n",
      "[ 3. -1.]\n",
      "Centroids:  [[0.66666667 0.        ]\n",
      " [3.33333333 0.        ]]\n",
      "Iteration:  3\n",
      "d:  [0 0]\n",
      "Distance from Centroids: [0.66666667 3.33333333]\n",
      "Assigned Centroid:  0\n",
      "d:  [1 1]\n",
      "Distance from Centroids: [1.05409255 2.53859104]\n",
      "Assigned Centroid:  0\n",
      "d:  [ 1 -1]\n",
      "Distance from Centroids: [1.05409255 2.53859104]\n",
      "Assigned Centroid:  0\n",
      "d:  [3 1]\n",
      "Distance from Centroids: [2.53859104 1.05409255]\n",
      "Assigned Centroid:  1\n",
      "d:  [ 3 -1]\n",
      "Distance from Centroids: [2.53859104 1.05409255]\n",
      "Assigned Centroid:  1\n",
      "d:  [4 0]\n",
      "Distance from Centroids: [3.33333333 0.66666667]\n",
      "Assigned Centroid:  1\n",
      "[[ 0.  0.]\n",
      " [ 1.  1.]\n",
      " [ 1. -1.]]\n",
      "[[ 3.  1.]\n",
      " [ 3. -1.]\n",
      " [ 4.  0.]]\n",
      "val [0.66666667 3.33333333] [0. 0.]\n",
      "[0.66666667 0.        ]\n",
      "[3.33333333 0.        ]\n"
     ]
    },
    {
     "data": {
      "image/png": "[encoded data removed]",
      "text/plain": [
       "<Figure size 432x288 with 1 Axes>"
      ]
     },
     "metadata": {
      "needs_background": "light"
     },
     "output_type": "display_data"
    },
    {
     "name": "stdout",
     "output_type": "stream",
     "text": [
      "[3. 1.]\n",
      "[ 3. -1.]\n",
      "Centroids:  [[0.66666667 0.        ]\n",
      " [3.33333333 0.        ]]\n"
     ]
    },
    {
     "data": {
      "text/plain": [
       "array([[0.66666667, 0.        ],\n",
       "       [3.33333333, 0.        ]])"
      ]
     },
     "execution_count": 6,
     "metadata": {},
     "output_type": "execute_result"
    }
   ],
   "source": [
    "Kmeans(data, np.array([[0,1], [1,-1]]))"
   ]
  },
  {
   "cell_type": "code",
   "execution_count": 7,
   "id": "1c3c6406",
   "metadata": {},
   "outputs": [],
   "source": [
    "x = np.array([np.array([[ 0.,  0.],\n",
    "       [ 1., -1.]]),\n",
    " np.array([[ 1.,  1.],\n",
    "       [ 3.,  1.],\n",
    "       [ 3., -1.],\n",
    "       [ 4.,  0.]])], dtype='object')"
   ]
  },
  {
   "cell_type": "code",
   "execution_count": 8,
   "id": "d163aa6d",
   "metadata": {},
   "outputs": [
    {
     "data": {
      "text/plain": [
       "array([array([[ 0.,  0.],\n",
       "       [ 1., -1.]]),\n",
       "       array([[ 1.,  1.],\n",
       "       [ 3.,  1.],\n",
       "       [ 3., -1.],\n",
       "       [ 4.,  0.]])], dtype=object)"
      ]
     },
     "execution_count": 8,
     "metadata": {},
     "output_type": "execute_result"
    }
   ],
   "source": [
    "x"
   ]
  },
  {
   "cell_type": "code",
   "execution_count": 9,
   "id": "80dbc204",
   "metadata": {},
   "outputs": [
    {
     "data": {
      "text/plain": [
       "1"
      ]
     },
     "execution_count": 9,
     "metadata": {},
     "output_type": "execute_result"
    }
   ],
   "source": [
    "np.argmin(np.linalg.norm(np.array([2,0]) -  data, axis=1))"
   ]
  },
  {
   "cell_type": "code",
   "execution_count": 10,
   "id": "3606d71c",
   "metadata": {},
   "outputs": [
    {
     "data": {
      "text/plain": [
       "array([2., 0.])"
      ]
     },
     "execution_count": 10,
     "metadata": {},
     "output_type": "execute_result"
    }
   ],
   "source": [
    "np.mean(data, axis=0)"
   ]
  },
  {
   "cell_type": "markdown",
   "id": "875b7587",
   "metadata": {},
   "source": [
    "Check to see when Kmeans will not converge to same clusters for 4 points "
   ]
  },
  {
   "cell_type": "code",
   "execution_count": 12,
   "id": "88b601f8",
   "metadata": {},
   "outputs": [
    {
     "data": {
      "text/plain": [
       "array([[0.26840801, 0.65985855],\n",
       "       [0.35815724, 0.20713422],\n",
       "       [0.25259592, 0.24517707],\n",
       "       [0.86085334, 0.18964939]])"
      ]
     },
     "execution_count": 12,
     "metadata": {},
     "output_type": "execute_result"
    }
   ],
   "source": [
    "data = np.random.rand(4,2)\n",
    "data"
   ]
  },
  {
   "cell_type": "code",
   "execution_count": 13,
   "id": "306381cf",
   "metadata": {},
   "outputs": [
    {
     "name": "stdout",
     "output_type": "stream",
     "text": [
      "Iteration:  1\n",
      "d:  [0.5949672  0.78847662]\n",
      "Distance from Centroids: [0.         0.68760957]\n",
      "Assigned Centroid:  0\n",
      "d:  [0.96814565 0.21094328]\n",
      "Distance from Centroids: [0.68760957 0.        ]\n",
      "Assigned Centroid:  1\n",
      "d:  [0.21135172 0.79481076]\n",
      "Distance from Centroids: [0.38366777 0.95584429]\n",
      "Assigned Centroid:  0\n",
      "d:  [0.24815399 0.13695873]\n",
      "Distance from Centroids: [0.73807517 0.72378291]\n",
      "Assigned Centroid:  1\n",
      "[[0.5949672  0.78847662]\n",
      " [0.21135172 0.79481076]]\n",
      "[[0.96814565 0.21094328]\n",
      " [0.24815399 0.13695873]]\n",
      "val [0.5949672  0.96814565] [0.78847662 0.21094328]\n",
      "[0.5949672  0.78847662]\n",
      "[0.96814565 0.21094328]\n"
     ]
    },
    {
     "data": {
      "image/png": "[encoded data removed]",
      "text/plain": [
       "<Figure size 432x288 with 1 Axes>"
      ]
     },
     "metadata": {
      "needs_background": "light"
     },
     "output_type": "display_data"
    },
    {
     "name": "stdout",
     "output_type": "stream",
     "text": [
      "[0.96814565 0.21094328]\n",
      "[0.24815399 0.13695873]\n",
      "Centroids:  [[0.40315946 0.79164369]\n",
      " [0.60814982 0.173951  ]]\n",
      "Iteration:  2\n",
      "d:  [0.5949672  0.78847662]\n",
      "Distance from Centroids: [0.19183388 0.61466699]\n",
      "Assigned Centroid:  0\n",
      "d:  [0.96814565 0.21094328]\n",
      "Distance from Centroids: [0.81019897 0.36189146]\n",
      "Assigned Centroid:  1\n",
      "d:  [0.21135172 0.79481076]\n",
      "Distance from Centroids: [0.19183388 0.73682805]\n",
      "Assigned Centroid:  0\n",
      "d:  [0.24815399 0.13695873]\n",
      "Distance from Centroids: [0.67278458 0.36189146]\n",
      "Assigned Centroid:  1\n",
      "[[0.5949672  0.78847662]\n",
      " [0.21135172 0.79481076]]\n",
      "[[0.96814565 0.21094328]\n",
      " [0.24815399 0.13695873]]\n",
      "val [0.40315946 0.60814982] [0.79164369 0.173951  ]\n",
      "[0.40315946 0.79164369]\n",
      "[0.60814982 0.173951  ]\n"
     ]
    },
    {
     "data": {
      "image/png": "[encoded data removed]",
      "text/plain": [
       "<Figure size 432x288 with 1 Axes>"
      ]
     },
     "metadata": {
      "needs_background": "light"
     },
     "output_type": "display_data"
    },
    {
     "name": "stdout",
     "output_type": "stream",
     "text": [
      "[0.96814565 0.21094328]\n",
      "[0.24815399 0.13695873]\n",
      "Centroids:  [[0.40315946 0.79164369]\n",
      " [0.60814982 0.173951  ]]\n",
      "Iteration:  1\n",
      "d:  [0.5949672  0.78847662]\n",
      "Distance from Centroids: [0.         0.38366777]\n",
      "Assigned Centroid:  0\n",
      "d:  [0.96814565 0.21094328]\n",
      "Distance from Centroids: [0.68760957 0.95584429]\n",
      "Assigned Centroid:  0\n",
      "d:  [0.21135172 0.79481076]\n",
      "Distance from Centroids: [0.38366777 0.        ]\n",
      "Assigned Centroid:  1\n",
      "d:  [0.24815399 0.13695873]\n",
      "Distance from Centroids: [0.73807517 0.65888064]\n",
      "Assigned Centroid:  1\n",
      "[[0.5949672  0.78847662]\n",
      " [0.96814565 0.21094328]]\n",
      "[[0.21135172 0.79481076]\n",
      " [0.24815399 0.13695873]]\n",
      "val [0.5949672  0.21135172] [0.78847662 0.79481076]\n",
      "[0.5949672  0.78847662]\n",
      "[0.21135172 0.79481076]\n"
     ]
    },
    {
     "data": {
      "image/png": "[encoded data removed]",
      "text/plain": [
       "<Figure size 432x288 with 1 Axes>"
      ]
     },
     "metadata": {
      "needs_background": "light"
     },
     "output_type": "display_data"
    },
    {
     "name": "stdout",
     "output_type": "stream",
     "text": [
      "[0.21135172 0.79481076]\n",
      "[0.24815399 0.13695873]\n",
      "Centroids:  [[0.78155643 0.49970995]\n",
      " [0.22975286 0.46588474]]\n",
      "Iteration:  2\n",
      "d:  [0.5949672  0.78847662]\n",
      "Distance from Centroids: [0.34380479 0.48728537]\n",
      "Assigned Centroid:  0\n",
      "d:  [0.96814565 0.21094328]\n",
      "Distance from Centroids: [0.34380479 0.7811652 ]\n",
      "Assigned Centroid:  0\n",
      "d:  [0.21135172 0.79481076]\n",
      "Distance from Centroids: [0.64204198 0.32944032]\n",
      "Assigned Centroid:  1\n",
      "d:  [0.24815399 0.13695873]\n",
      "Distance from Centroids: [0.64506325 0.32944032]\n",
      "Assigned Centroid:  1\n",
      "[[0.5949672  0.78847662]\n",
      " [0.96814565 0.21094328]]\n",
      "[[0.21135172 0.79481076]\n",
      " [0.24815399 0.13695873]]\n",
      "val [0.78155643 0.22975286] [0.49970995 0.46588474]\n",
      "[0.78155643 0.49970995]\n",
      "[0.22975286 0.46588474]\n"
     ]
    },
    {
     "data": {
      "image/png": "[encoded data removed]",
      "text/plain": [
       "<Figure size 432x288 with 1 Axes>"
      ]
     },
     "metadata": {
      "needs_background": "light"
     },
     "output_type": "display_data"
    },
    {
     "name": "stdout",
     "output_type": "stream",
     "text": [
      "[0.21135172 0.79481076]\n",
      "[0.24815399 0.13695873]\n",
      "Centroids:  [[0.78155643 0.49970995]\n",
      " [0.22975286 0.46588474]]\n",
      "Iteration:  1\n",
      "d:  [0.5949672  0.78847662]\n",
      "Distance from Centroids: [0.         0.73807517]\n",
      "Assigned Centroid:  0\n",
      "d:  [0.96814565 0.21094328]\n",
      "Distance from Centroids: [0.68760957 0.72378291]\n",
      "Assigned Centroid:  0\n",
      "d:  [0.21135172 0.79481076]\n",
      "Distance from Centroids: [0.38366777 0.65888064]\n",
      "Assigned Centroid:  0\n",
      "d:  [0.24815399 0.13695873]\n",
      "Distance from Centroids: [0.73807517 0.        ]\n",
      "Assigned Centroid:  1\n",
      "[[0.5949672  0.78847662]\n",
      " [0.96814565 0.21094328]\n",
      " [0.21135172 0.79481076]]\n",
      "[[0.24815399 0.13695873]]\n",
      "val [0.5949672  0.24815399] [0.78847662 0.13695873]\n",
      "[0.5949672  0.78847662]\n",
      "[0.24815399 0.13695873]\n"
     ]
    },
    {
     "data": {
      "image/png": "[encoded data removed]",
      "text/plain": [
       "<Figure size 432x288 with 1 Axes>"
      ]
     },
     "metadata": {
      "needs_background": "light"
     },
     "output_type": "display_data"
    },
    {
     "name": "stdout",
     "output_type": "stream",
     "text": [
      "[0.24815399 0.13695873]\n"
     ]
    },
    {
     "ename": "IndexError",
     "evalue": "index 1 is out of bounds for axis 0 with size 1",
     "output_type": "error",
     "traceback": [
      "\u001b[1;31m---------------------------------------------------------------------------\u001b[0m",
      "\u001b[1;31mIndexError\u001b[0m                                Traceback (most recent call last)",
      "\u001b[1;32m~\\AppData\\Local\\Temp/ipykernel_34696/1849553073.py\u001b[0m in \u001b[0;36m<module>\u001b[1;34m\u001b[0m\n\u001b[0;32m      5\u001b[0m     \u001b[0mcombs\u001b[0m \u001b[1;33m=\u001b[0m \u001b[0mlist\u001b[0m\u001b[1;33m(\u001b[0m\u001b[0mcombinations\u001b[0m\u001b[1;33m(\u001b[0m\u001b[0mdata\u001b[0m\u001b[1;33m,\u001b[0m \u001b[1;36m2\u001b[0m\u001b[1;33m)\u001b[0m\u001b[1;33m)\u001b[0m\u001b[1;33m\u001b[0m\u001b[1;33m\u001b[0m\u001b[0m\n\u001b[0;32m      6\u001b[0m     \u001b[1;32mfor\u001b[0m \u001b[0mc\u001b[0m \u001b[1;32min\u001b[0m \u001b[0mcombs\u001b[0m\u001b[1;33m:\u001b[0m\u001b[1;33m\u001b[0m\u001b[1;33m\u001b[0m\u001b[0m\n\u001b[1;32m----> 7\u001b[1;33m         \u001b[0mcentroids\u001b[0m\u001b[1;33m.\u001b[0m\u001b[0mappend\u001b[0m\u001b[1;33m(\u001b[0m\u001b[0mKmeans\u001b[0m\u001b[1;33m(\u001b[0m\u001b[0mdata\u001b[0m\u001b[1;33m,\u001b[0m \u001b[0mnp\u001b[0m\u001b[1;33m.\u001b[0m\u001b[0marray\u001b[0m\u001b[1;33m(\u001b[0m\u001b[0mc\u001b[0m\u001b[1;33m)\u001b[0m\u001b[1;33m)\u001b[0m\u001b[1;33m)\u001b[0m\u001b[1;33m\u001b[0m\u001b[1;33m\u001b[0m\u001b[0m\n\u001b[0m\u001b[0;32m      8\u001b[0m     \u001b[0mprint\u001b[0m\u001b[1;33m(\u001b[0m\u001b[0mcentroids\u001b[0m\u001b[1;33m)\u001b[0m\u001b[1;33m\u001b[0m\u001b[1;33m\u001b[0m\u001b[0m\n\u001b[0;32m      9\u001b[0m     \u001b[1;32mbreak\u001b[0m\u001b[1;33m\u001b[0m\u001b[1;33m\u001b[0m\u001b[0m\n",
      "\u001b[1;32m~\\AppData\\Local\\Temp/ipykernel_34696/2961306372.py\u001b[0m in \u001b[0;36mKmeans\u001b[1;34m(data, initial_centroids, k, use_medoids)\u001b[0m\n\u001b[0;32m     34\u001b[0m         \u001b[0mnew_centroids\u001b[0m \u001b[1;33m=\u001b[0m \u001b[1;33m[\u001b[0m\u001b[1;33m]\u001b[0m\u001b[1;33m\u001b[0m\u001b[1;33m\u001b[0m\u001b[0m\n\u001b[0;32m     35\u001b[0m         \u001b[1;32mfor\u001b[0m \u001b[0mi\u001b[0m \u001b[1;32min\u001b[0m \u001b[0mrange\u001b[0m\u001b[1;33m(\u001b[0m\u001b[0mk\u001b[0m\u001b[1;33m)\u001b[0m\u001b[1;33m:\u001b[0m\u001b[1;33m\u001b[0m\u001b[1;33m\u001b[0m\u001b[0m\n\u001b[1;32m---> 36\u001b[1;33m             \u001b[0mprint\u001b[0m\u001b[1;33m(\u001b[0m\u001b[0mcluster\u001b[0m\u001b[1;33m[\u001b[0m\u001b[0mi\u001b[0m\u001b[1;33m]\u001b[0m\u001b[1;33m)\u001b[0m\u001b[1;33m\u001b[0m\u001b[1;33m\u001b[0m\u001b[0m\n\u001b[0m\u001b[0;32m     37\u001b[0m             \u001b[1;32mif\u001b[0m \u001b[0mlen\u001b[0m\u001b[1;33m(\u001b[0m\u001b[0mcluster\u001b[0m\u001b[1;33m[\u001b[0m\u001b[0mi\u001b[0m\u001b[1;33m]\u001b[0m\u001b[1;33m)\u001b[0m\u001b[1;33m>\u001b[0m\u001b[1;36m0\u001b[0m\u001b[1;33m:\u001b[0m\u001b[1;33m\u001b[0m\u001b[1;33m\u001b[0m\u001b[0m\n\u001b[0;32m     38\u001b[0m                 \u001b[0mnew_centroids\u001b[0m\u001b[1;33m.\u001b[0m\u001b[0mappend\u001b[0m\u001b[1;33m(\u001b[0m\u001b[0mnp\u001b[0m\u001b[1;33m.\u001b[0m\u001b[0mmean\u001b[0m\u001b[1;33m(\u001b[0m\u001b[0mclusters\u001b[0m\u001b[1;33m[\u001b[0m\u001b[0mi\u001b[0m\u001b[1;33m]\u001b[0m\u001b[1;33m,\u001b[0m \u001b[0maxis\u001b[0m\u001b[1;33m=\u001b[0m\u001b[1;36m0\u001b[0m\u001b[1;33m)\u001b[0m\u001b[1;33m)\u001b[0m\u001b[1;33m\u001b[0m\u001b[1;33m\u001b[0m\u001b[0m\n",
      "\u001b[1;31mIndexError\u001b[0m: index 1 is out of bounds for axis 0 with size 1"
     ]
    }
   ],
   "source": [
    "from itertools import combinations \n",
    "while True: \n",
    "    centroids = []\n",
    "    data = np.random.rand(4,2)\n",
    "    combs = list(combinations(data, 2))\n",
    "    for c in combs: \n",
    "        centroids.append(Kmeans(data, np.array(c))) \n",
    "    print(centroids)\n",
    "    break\n",
    "    \n",
    "plt.scatter(data[:, 0], data[:, 1])"
   ]
  },
  {
   "cell_type": "code",
   "execution_count": 14,
   "id": "bf1c1406",
   "metadata": {},
   "outputs": [
    {
     "data": {
      "text/plain": [
       "array([[0.5949672 , 0.78847662],\n",
       "       [0.96814565, 0.21094328],\n",
       "       [0.21135172, 0.79481076],\n",
       "       [0.24815399, 0.13695873]])"
      ]
     },
     "execution_count": 14,
     "metadata": {},
     "output_type": "execute_result"
    }
   ],
   "source": [
    "data"
   ]
  },
  {
   "cell_type": "code",
   "execution_count": null,
   "id": "6179660e",
   "metadata": {},
   "outputs": [],
   "source": [
    "data = "
   ]
  }
 ],
 "metadata": {
  "kernelspec": {
   "display_name": "ai_env",
   "language": "python",
   "name": "ai_env"
  },
  "language_info": {
   "codemirror_mode": {
    "name": "ipython",
    "version": 3
   },
   "file_extension": ".py",
   "mimetype": "text/x-python",
   "name": "python",
   "nbconvert_exporter": "python",
   "pygments_lexer": "ipython3",
   "version": "3.8.8"
  }
 },
 "nbformat": 4,
 "nbformat_minor": 5
}
